{
  "cells": [
    {
      "cell_type": "markdown",
      "metadata": {
        "id": "view-in-github",
        "colab_type": "text"
      },
      "source": [
        "<a href=\"https://colab.research.google.com/github/pidipidi/cs577_RLI/blob/master/LLM_VLM_Planner_.ipynb\" target=\"_parent\"><img src=\"https://colab.research.google.com/assets/colab-badge.svg\" alt=\"Open In Colab\"/></a>"
      ]
    },
    {
      "cell_type": "markdown",
      "source": [
        "# LLM/VLM-based Task Planning\n",
        "\n",
        "This notebook demonstrates the implementation of a task planner using LLM/VLM and its integration with [AI2-THOR simulation](https://ai2thor.allenai.org/).\n",
        "We explore three prompting strategies—Zero-Shot, Few-Shot, and Multimodal—to generate JSON-formatted plans, parse them into high-level actions, and execute them in the AI2-THOR kitchen environment.\n",
        "\n",
        "---"
      ],
      "metadata": {
        "id": "nvc-orfm8aB1"
      }
    },
    {
      "cell_type": "markdown",
      "source": [
        "## General information"
      ],
      "metadata": {
        "id": "7AuVpw9TZJrS"
      }
    },
    {
      "cell_type": "markdown",
      "source": [
        "### Objectives\n",
        "\n",
        "- Initialize the AI2-THOR simulation environment  \n",
        "- Construct prompts for **Zero-Shot**, **Few-Shot**, and **Multimodal** planning  \n",
        "- Generate JSON-based plans using ChatGPT or other LLMs/VLMs  \n",
        "- Execute and validate the plans step-by-step in AI2-THOR  \n",
        "\n",
        "### Table of Contents\n",
        "\n",
        "- **Environment Setup**  \n",
        "  - Install required libraries  \n",
        "  - Configure AI2-THOR and start X server  \n",
        "\n",
        "- **Thor Wrapper Class**  \n",
        "  - Scene & Agent Initialization\n",
        "  - Utility Functions  \n",
        "\n",
        "- **Zero-Shot Planning**  \n",
        "\n",
        "- **Few-Shot Planning**  \n",
        "\n",
        "- **Multi-Modal Planning**  \n",
        "  - Prompt Formulation    \n",
        "  - JSON Plan Acquisition via LLM(ChatGPT4o)\n",
        "  - Execution within the AI2-THOR Environment\n"
      ],
      "metadata": {
        "id": "aKy6J7bBa7UF"
      }
    },
    {
      "cell_type": "markdown",
      "source": [
        "---\n",
        "\n",
        "### 🚨 Prompt Requirements\n",
        "\n",
        "Please, consider the **two rules below**, and apply them to **all** prompts (zero-shot, few-shot, multimodal):\n",
        "\n",
        "*   Action templates:\n",
        "\n",
        "  - `\"open\" <object>`  \n",
        "  - `\"close\" <object>`  \n",
        "  - `\"pick up\" <object>`  \n",
        "  - `\"place\" <object> \"in\" <object>`  \n",
        "  - `\"place\" <object> \"on\" <object>`  \n",
        "  - `\"turn on\" <object>`  \n",
        "  - `\"turn off\" <object>`\n",
        "\n",
        "  > **Valid**: `\"pick up plate\"`  \n",
        "  > **Invalid**: `\"pick-up plate\"`, `\"PickUp plate\"`, `\"Pick up plate\"`\n",
        "\n",
        "*   Output format:\n",
        "  - Return a JSON plan **only**  \n",
        "  - Keys must be `\"1\"`, `\"2\"`, … (strings)  \n",
        "  - Values must match the action templates above  \n",
        "  - **No extra text, explanation, or commentary**\n",
        "\n",
        "  **Example JSON Plan**  \n",
        "  ```json\n",
        "  {\n",
        "    \"1\": \"pick up plate\",\n",
        "    \"2\": \"place plate in sink\",\n",
        "    \"3\": \"turn on faucet\"\n",
        "  }\n"
      ],
      "metadata": {
        "id": "ud5uNWlE10JH"
      }
    },
    {
      "cell_type": "markdown",
      "source": [
        "### 🚨 Prepare an LLM/VLM for planning\n",
        "\n",
        "Loading LLMs in Colab requires a GPU runtime, but running the AI2-THOR controller requires a CPU runtime.  \n",
        "Therefore, please use your personal ChatGPT-4o (or equivalent) outside of Colab to generate the JSON task plan, then paste it into the cell below for execution.  \n",
        "\n",
        "### 🚨 Set the type of the runtime\n",
        "\n",
        "AI2-THOR requires a **CPU** runtime in Colab.  \n",
        "Please go to **Runtime → Change runtime type** and select **CPU** before running any cells.\n",
        "\n",
        "---"
      ],
      "metadata": {
        "id": "D2ed7mg3EPKT"
      }
    },
    {
      "cell_type": "markdown",
      "source": [
        "### Install necessary files for AI2-THOR\n",
        "\n",
        " To create the environment, upload the AI2THOR.zip file from the designated repository to your local machine. Run the code block below to upload the necessary files to your Colab.\n",
        "\n",
        "*   AI2THOR.zip"
      ],
      "metadata": {
        "id": "525RUhWieouh"
      }
    },
    {
      "cell_type": "code",
      "execution_count": null,
      "metadata": {
        "colab": {
          "base_uri": "https://localhost:8080/"
        },
        "id": "mPW3qS8JHxd9",
        "outputId": "97c638e1-e5bd-4cce-d643-7da5de2b322e"
      },
      "outputs": [
        {
          "output_type": "stream",
          "name": "stdout",
          "text": [
            "Mounted at /content/drive\n"
          ]
        }
      ],
      "source": [
        "from google.colab import files\n",
        "uploaded = files.upload()"
      ]
    },
    {
      "cell_type": "code",
      "execution_count": null,
      "metadata": {
        "colab": {
          "base_uri": "https://localhost:8080/"
        },
        "id": "ixWDVkUPHyGy",
        "outputId": "378b5143-a00d-4a1b-99b7-bb34eca61727"
      },
      "outputs": [
        {
          "output_type": "stream",
          "name": "stdout",
          "text": [
            "/content\n",
            "/content/AI2THOR_ws/AI2THOR_ws\n",
            "Collecting ai2thor (from -r requirements.txt (line 1))\n",
            "  Downloading ai2thor-5.0.0-py2.py3-none-any.whl.metadata (16 kB)\n",
            "Requirement already satisfied: openai in /usr/local/lib/python3.11/dist-packages (from -r requirements.txt (line 2)) (1.97.1)\n",
            "Requirement already satisfied: matplotlib in /usr/local/lib/python3.11/dist-packages (from -r requirements.txt (line 3)) (3.10.0)\n",
            "Requirement already satisfied: tqdm in /usr/local/lib/python3.11/dist-packages (from -r requirements.txt (line 4)) (4.67.1)\n",
            "Requirement already satisfied: sentence_transformers in /usr/local/lib/python3.11/dist-packages (from -r requirements.txt (line 5)) (4.1.0)\n",
            "Requirement already satisfied: seaborn in /usr/local/lib/python3.11/dist-packages (from -r requirements.txt (line 6)) (0.13.2)\n",
            "Collecting pyperplan (from -r requirements.txt (line 7))\n",
            "  Downloading pyperplan-2.1-py2.py3-none-any.whl.metadata (4.3 kB)\n",
            "Requirement already satisfied: imageio in /usr/local/lib/python3.11/dist-packages (from -r requirements.txt (line 8)) (2.37.0)\n",
            "Requirement already satisfied: pillow in /usr/local/lib/python3.11/dist-packages (from -r requirements.txt (line 9)) (11.3.0)\n",
            "Requirement already satisfied: imageio-ffmpeg in /usr/local/lib/python3.11/dist-packages (from -r requirements.txt (line 10)) (0.6.0)\n",
            "Requirement already satisfied: flask in /usr/local/lib/python3.11/dist-packages (from ai2thor->-r requirements.txt (line 1)) (3.1.1)\n",
            "Requirement already satisfied: numpy in /usr/local/lib/python3.11/dist-packages (from ai2thor->-r requirements.txt (line 1)) (2.0.2)\n",
            "Requirement already satisfied: pyyaml in /usr/local/lib/python3.11/dist-packages (from ai2thor->-r requirements.txt (line 1)) (6.0.2)\n",
            "Requirement already satisfied: requests in /usr/local/lib/python3.11/dist-packages (from ai2thor->-r requirements.txt (line 1)) (2.32.3)\n",
            "Requirement already satisfied: progressbar2 in /usr/local/lib/python3.11/dist-packages (from ai2thor->-r requirements.txt (line 1)) (4.5.0)\n",
            "Collecting botocore (from ai2thor->-r requirements.txt (line 1))\n",
            "  Downloading botocore-1.40.2-py3-none-any.whl.metadata (5.7 kB)\n",
            "Collecting aws-requests-auth (from ai2thor->-r requirements.txt (line 1))\n",
            "  Downloading aws_requests_auth-0.4.3-py2.py3-none-any.whl.metadata (567 bytes)\n",
            "Requirement already satisfied: msgpack in /usr/local/lib/python3.11/dist-packages (from ai2thor->-r requirements.txt (line 1)) (1.1.1)\n",
            "Collecting python-xlib (from ai2thor->-r requirements.txt (line 1))\n",
            "  Downloading python_xlib-0.33-py2.py3-none-any.whl.metadata (6.2 kB)\n",
            "Requirement already satisfied: opencv-python in /usr/local/lib/python3.11/dist-packages (from ai2thor->-r requirements.txt (line 1)) (4.12.0.88)\n",
            "Requirement already satisfied: werkzeug>=0.15.0 in /usr/local/lib/python3.11/dist-packages (from ai2thor->-r requirements.txt (line 1)) (3.1.3)\n",
            "Requirement already satisfied: anyio<5,>=3.5.0 in /usr/local/lib/python3.11/dist-packages (from openai->-r requirements.txt (line 2)) (4.9.0)\n",
            "Requirement already satisfied: distro<2,>=1.7.0 in /usr/local/lib/python3.11/dist-packages (from openai->-r requirements.txt (line 2)) (1.9.0)\n",
            "Requirement already satisfied: httpx<1,>=0.23.0 in /usr/local/lib/python3.11/dist-packages (from openai->-r requirements.txt (line 2)) (0.28.1)\n",
            "Requirement already satisfied: jiter<1,>=0.4.0 in /usr/local/lib/python3.11/dist-packages (from openai->-r requirements.txt (line 2)) (0.10.0)\n",
            "Requirement already satisfied: pydantic<3,>=1.9.0 in /usr/local/lib/python3.11/dist-packages (from openai->-r requirements.txt (line 2)) (2.11.7)\n",
            "Requirement already satisfied: sniffio in /usr/local/lib/python3.11/dist-packages (from openai->-r requirements.txt (line 2)) (1.3.1)\n",
            "Requirement already satisfied: typing-extensions<5,>=4.11 in /usr/local/lib/python3.11/dist-packages (from openai->-r requirements.txt (line 2)) (4.14.1)\n",
            "Requirement already satisfied: contourpy>=1.0.1 in /usr/local/lib/python3.11/dist-packages (from matplotlib->-r requirements.txt (line 3)) (1.3.2)\n",
            "Requirement already satisfied: cycler>=0.10 in /usr/local/lib/python3.11/dist-packages (from matplotlib->-r requirements.txt (line 3)) (0.12.1)\n",
            "Requirement already satisfied: fonttools>=4.22.0 in /usr/local/lib/python3.11/dist-packages (from matplotlib->-r requirements.txt (line 3)) (4.59.0)\n",
            "Requirement already satisfied: kiwisolver>=1.3.1 in /usr/local/lib/python3.11/dist-packages (from matplotlib->-r requirements.txt (line 3)) (1.4.8)\n",
            "Requirement already satisfied: packaging>=20.0 in /usr/local/lib/python3.11/dist-packages (from matplotlib->-r requirements.txt (line 3)) (25.0)\n",
            "Requirement already satisfied: pyparsing>=2.3.1 in /usr/local/lib/python3.11/dist-packages (from matplotlib->-r requirements.txt (line 3)) (3.2.3)\n",
            "Requirement already satisfied: python-dateutil>=2.7 in /usr/local/lib/python3.11/dist-packages (from matplotlib->-r requirements.txt (line 3)) (2.9.0.post0)\n",
            "Requirement already satisfied: transformers<5.0.0,>=4.41.0 in /usr/local/lib/python3.11/dist-packages (from sentence_transformers->-r requirements.txt (line 5)) (4.54.0)\n",
            "Requirement already satisfied: torch>=1.11.0 in /usr/local/lib/python3.11/dist-packages (from sentence_transformers->-r requirements.txt (line 5)) (2.6.0+cu124)\n",
            "Requirement already satisfied: scikit-learn in /usr/local/lib/python3.11/dist-packages (from sentence_transformers->-r requirements.txt (line 5)) (1.6.1)\n",
            "Requirement already satisfied: scipy in /usr/local/lib/python3.11/dist-packages (from sentence_transformers->-r requirements.txt (line 5)) (1.16.0)\n",
            "Requirement already satisfied: huggingface-hub>=0.20.0 in /usr/local/lib/python3.11/dist-packages (from sentence_transformers->-r requirements.txt (line 5)) (0.34.1)\n",
            "Requirement already satisfied: pandas>=1.2 in /usr/local/lib/python3.11/dist-packages (from seaborn->-r requirements.txt (line 6)) (2.2.2)\n",
            "Requirement already satisfied: wheel in /usr/local/lib/python3.11/dist-packages (from pyperplan->-r requirements.txt (line 7)) (0.45.1)\n",
            "Requirement already satisfied: idna>=2.8 in /usr/local/lib/python3.11/dist-packages (from anyio<5,>=3.5.0->openai->-r requirements.txt (line 2)) (3.10)\n",
            "Requirement already satisfied: certifi in /usr/local/lib/python3.11/dist-packages (from httpx<1,>=0.23.0->openai->-r requirements.txt (line 2)) (2025.7.14)\n",
            "Requirement already satisfied: httpcore==1.* in /usr/local/lib/python3.11/dist-packages (from httpx<1,>=0.23.0->openai->-r requirements.txt (line 2)) (1.0.9)\n",
            "Requirement already satisfied: h11>=0.16 in /usr/local/lib/python3.11/dist-packages (from httpcore==1.*->httpx<1,>=0.23.0->openai->-r requirements.txt (line 2)) (0.16.0)\n",
            "Requirement already satisfied: filelock in /usr/local/lib/python3.11/dist-packages (from huggingface-hub>=0.20.0->sentence_transformers->-r requirements.txt (line 5)) (3.18.0)\n",
            "Requirement already satisfied: fsspec>=2023.5.0 in /usr/local/lib/python3.11/dist-packages (from huggingface-hub>=0.20.0->sentence_transformers->-r requirements.txt (line 5)) (2025.3.0)\n",
            "Requirement already satisfied: hf-xet<2.0.0,>=1.1.3 in /usr/local/lib/python3.11/dist-packages (from huggingface-hub>=0.20.0->sentence_transformers->-r requirements.txt (line 5)) (1.1.5)\n",
            "Requirement already satisfied: pytz>=2020.1 in /usr/local/lib/python3.11/dist-packages (from pandas>=1.2->seaborn->-r requirements.txt (line 6)) (2025.2)\n",
            "Requirement already satisfied: tzdata>=2022.7 in /usr/local/lib/python3.11/dist-packages (from pandas>=1.2->seaborn->-r requirements.txt (line 6)) (2025.2)\n",
            "Requirement already satisfied: annotated-types>=0.6.0 in /usr/local/lib/python3.11/dist-packages (from pydantic<3,>=1.9.0->openai->-r requirements.txt (line 2)) (0.7.0)\n",
            "Requirement already satisfied: pydantic-core==2.33.2 in /usr/local/lib/python3.11/dist-packages (from pydantic<3,>=1.9.0->openai->-r requirements.txt (line 2)) (2.33.2)\n",
            "Requirement already satisfied: typing-inspection>=0.4.0 in /usr/local/lib/python3.11/dist-packages (from pydantic<3,>=1.9.0->openai->-r requirements.txt (line 2)) (0.4.1)\n",
            "Requirement already satisfied: six>=1.5 in /usr/local/lib/python3.11/dist-packages (from python-dateutil>=2.7->matplotlib->-r requirements.txt (line 3)) (1.17.0)\n",
            "Requirement already satisfied: networkx in /usr/local/lib/python3.11/dist-packages (from torch>=1.11.0->sentence_transformers->-r requirements.txt (line 5)) (3.5)\n",
            "Requirement already satisfied: jinja2 in /usr/local/lib/python3.11/dist-packages (from torch>=1.11.0->sentence_transformers->-r requirements.txt (line 5)) (3.1.6)\n",
            "Collecting nvidia-cuda-nvrtc-cu12==12.4.127 (from torch>=1.11.0->sentence_transformers->-r requirements.txt (line 5))\n",
            "  Downloading nvidia_cuda_nvrtc_cu12-12.4.127-py3-none-manylinux2014_x86_64.whl.metadata (1.5 kB)\n",
            "Collecting nvidia-cuda-runtime-cu12==12.4.127 (from torch>=1.11.0->sentence_transformers->-r requirements.txt (line 5))\n",
            "  Downloading nvidia_cuda_runtime_cu12-12.4.127-py3-none-manylinux2014_x86_64.whl.metadata (1.5 kB)\n",
            "Collecting nvidia-cuda-cupti-cu12==12.4.127 (from torch>=1.11.0->sentence_transformers->-r requirements.txt (line 5))\n",
            "  Downloading nvidia_cuda_cupti_cu12-12.4.127-py3-none-manylinux2014_x86_64.whl.metadata (1.6 kB)\n",
            "Collecting nvidia-cudnn-cu12==9.1.0.70 (from torch>=1.11.0->sentence_transformers->-r requirements.txt (line 5))\n",
            "  Downloading nvidia_cudnn_cu12-9.1.0.70-py3-none-manylinux2014_x86_64.whl.metadata (1.6 kB)\n",
            "Collecting nvidia-cublas-cu12==12.4.5.8 (from torch>=1.11.0->sentence_transformers->-r requirements.txt (line 5))\n",
            "  Downloading nvidia_cublas_cu12-12.4.5.8-py3-none-manylinux2014_x86_64.whl.metadata (1.5 kB)\n",
            "Collecting nvidia-cufft-cu12==11.2.1.3 (from torch>=1.11.0->sentence_transformers->-r requirements.txt (line 5))\n",
            "  Downloading nvidia_cufft_cu12-11.2.1.3-py3-none-manylinux2014_x86_64.whl.metadata (1.5 kB)\n",
            "Collecting nvidia-curand-cu12==10.3.5.147 (from torch>=1.11.0->sentence_transformers->-r requirements.txt (line 5))\n",
            "  Downloading nvidia_curand_cu12-10.3.5.147-py3-none-manylinux2014_x86_64.whl.metadata (1.5 kB)\n",
            "Collecting nvidia-cusolver-cu12==11.6.1.9 (from torch>=1.11.0->sentence_transformers->-r requirements.txt (line 5))\n",
            "  Downloading nvidia_cusolver_cu12-11.6.1.9-py3-none-manylinux2014_x86_64.whl.metadata (1.6 kB)\n",
            "Collecting nvidia-cusparse-cu12==12.3.1.170 (from torch>=1.11.0->sentence_transformers->-r requirements.txt (line 5))\n",
            "  Downloading nvidia_cusparse_cu12-12.3.1.170-py3-none-manylinux2014_x86_64.whl.metadata (1.6 kB)\n",
            "Requirement already satisfied: nvidia-cusparselt-cu12==0.6.2 in /usr/local/lib/python3.11/dist-packages (from torch>=1.11.0->sentence_transformers->-r requirements.txt (line 5)) (0.6.2)\n",
            "Requirement already satisfied: nvidia-nccl-cu12==2.21.5 in /usr/local/lib/python3.11/dist-packages (from torch>=1.11.0->sentence_transformers->-r requirements.txt (line 5)) (2.21.5)\n",
            "Requirement already satisfied: nvidia-nvtx-cu12==12.4.127 in /usr/local/lib/python3.11/dist-packages (from torch>=1.11.0->sentence_transformers->-r requirements.txt (line 5)) (12.4.127)\n",
            "Collecting nvidia-nvjitlink-cu12==12.4.127 (from torch>=1.11.0->sentence_transformers->-r requirements.txt (line 5))\n",
            "  Downloading nvidia_nvjitlink_cu12-12.4.127-py3-none-manylinux2014_x86_64.whl.metadata (1.5 kB)\n",
            "Requirement already satisfied: triton==3.2.0 in /usr/local/lib/python3.11/dist-packages (from torch>=1.11.0->sentence_transformers->-r requirements.txt (line 5)) (3.2.0)\n",
            "Requirement already satisfied: sympy==1.13.1 in /usr/local/lib/python3.11/dist-packages (from torch>=1.11.0->sentence_transformers->-r requirements.txt (line 5)) (1.13.1)\n",
            "Requirement already satisfied: mpmath<1.4,>=1.1.0 in /usr/local/lib/python3.11/dist-packages (from sympy==1.13.1->torch>=1.11.0->sentence_transformers->-r requirements.txt (line 5)) (1.3.0)\n",
            "Requirement already satisfied: regex!=2019.12.17 in /usr/local/lib/python3.11/dist-packages (from transformers<5.0.0,>=4.41.0->sentence_transformers->-r requirements.txt (line 5)) (2024.11.6)\n",
            "Requirement already satisfied: tokenizers<0.22,>=0.21 in /usr/local/lib/python3.11/dist-packages (from transformers<5.0.0,>=4.41.0->sentence_transformers->-r requirements.txt (line 5)) (0.21.2)\n",
            "Requirement already satisfied: safetensors>=0.4.3 in /usr/local/lib/python3.11/dist-packages (from transformers<5.0.0,>=4.41.0->sentence_transformers->-r requirements.txt (line 5)) (0.5.3)\n",
            "Requirement already satisfied: MarkupSafe>=2.1.1 in /usr/local/lib/python3.11/dist-packages (from werkzeug>=0.15.0->ai2thor->-r requirements.txt (line 1)) (3.0.2)\n",
            "Requirement already satisfied: charset-normalizer<4,>=2 in /usr/local/lib/python3.11/dist-packages (from requests->ai2thor->-r requirements.txt (line 1)) (3.4.2)\n",
            "Requirement already satisfied: urllib3<3,>=1.21.1 in /usr/local/lib/python3.11/dist-packages (from requests->ai2thor->-r requirements.txt (line 1)) (2.5.0)\n",
            "Collecting jmespath<2.0.0,>=0.7.1 (from botocore->ai2thor->-r requirements.txt (line 1))\n",
            "  Downloading jmespath-1.0.1-py3-none-any.whl.metadata (7.6 kB)\n",
            "Requirement already satisfied: blinker>=1.9.0 in /usr/local/lib/python3.11/dist-packages (from flask->ai2thor->-r requirements.txt (line 1)) (1.9.0)\n",
            "Requirement already satisfied: click>=8.1.3 in /usr/local/lib/python3.11/dist-packages (from flask->ai2thor->-r requirements.txt (line 1)) (8.2.1)\n",
            "Requirement already satisfied: itsdangerous>=2.2.0 in /usr/local/lib/python3.11/dist-packages (from flask->ai2thor->-r requirements.txt (line 1)) (2.2.0)\n",
            "Requirement already satisfied: python-utils>=3.8.1 in /usr/local/lib/python3.11/dist-packages (from progressbar2->ai2thor->-r requirements.txt (line 1)) (3.9.1)\n",
            "Requirement already satisfied: joblib>=1.2.0 in /usr/local/lib/python3.11/dist-packages (from scikit-learn->sentence_transformers->-r requirements.txt (line 5)) (1.5.1)\n",
            "Requirement already satisfied: threadpoolctl>=3.1.0 in /usr/local/lib/python3.11/dist-packages (from scikit-learn->sentence_transformers->-r requirements.txt (line 5)) (3.6.0)\n",
            "Downloading ai2thor-5.0.0-py2.py3-none-any.whl (68 kB)\n",
            "\u001b[2K   \u001b[90m━━━━━━━━━━━━━━━━━━━━━━━━━━━━━━━━━━━━━━━━\u001b[0m \u001b[32m68.6/68.6 kB\u001b[0m \u001b[31m2.9 MB/s\u001b[0m eta \u001b[36m0:00:00\u001b[0m\n",
            "\u001b[?25hDownloading pyperplan-2.1-py2.py3-none-any.whl (69 kB)\n",
            "\u001b[2K   \u001b[90m━━━━━━━━━━━━━━━━━━━━━━━━━━━━━━━━━━━━━━━━\u001b[0m \u001b[32m69.5/69.5 kB\u001b[0m \u001b[31m4.8 MB/s\u001b[0m eta \u001b[36m0:00:00\u001b[0m\n",
            "\u001b[?25hDownloading nvidia_cublas_cu12-12.4.5.8-py3-none-manylinux2014_x86_64.whl (363.4 MB)\n",
            "\u001b[2K   \u001b[90m━━━━━━━━━━━━━━━━━━━━━━━━━━━━━━━━━━━━━━━━\u001b[0m \u001b[32m363.4/363.4 MB\u001b[0m \u001b[31m1.3 MB/s\u001b[0m eta \u001b[36m0:00:00\u001b[0m\n",
            "\u001b[?25hDownloading nvidia_cuda_cupti_cu12-12.4.127-py3-none-manylinux2014_x86_64.whl (13.8 MB)\n",
            "\u001b[2K   \u001b[90m━━━━━━━━━━━━━━━━━━━━━━━━━━━━━━━━━━━━━━━━\u001b[0m \u001b[32m13.8/13.8 MB\u001b[0m \u001b[31m80.7 MB/s\u001b[0m eta \u001b[36m0:00:00\u001b[0m\n",
            "\u001b[?25hDownloading nvidia_cuda_nvrtc_cu12-12.4.127-py3-none-manylinux2014_x86_64.whl (24.6 MB)\n",
            "\u001b[2K   \u001b[90m━━━━━━━━━━━━━━━━━━━━━━━━━━━━━━━━━━━━━━━━\u001b[0m \u001b[32m24.6/24.6 MB\u001b[0m \u001b[31m67.4 MB/s\u001b[0m eta \u001b[36m0:00:00\u001b[0m\n",
            "\u001b[?25hDownloading nvidia_cuda_runtime_cu12-12.4.127-py3-none-manylinux2014_x86_64.whl (883 kB)\n",
            "\u001b[2K   \u001b[90m━━━━━━━━━━━━━━━━━━━━━━━━━━━━━━━━━━━━━━━━\u001b[0m \u001b[32m883.7/883.7 kB\u001b[0m \u001b[31m33.7 MB/s\u001b[0m eta \u001b[36m0:00:00\u001b[0m\n",
            "\u001b[?25hDownloading nvidia_cudnn_cu12-9.1.0.70-py3-none-manylinux2014_x86_64.whl (664.8 MB)\n",
            "\u001b[2K   \u001b[90m━━━━━━━━━━━━━━━━━━━━━━━━━━━━━━━━━━━━━━━━\u001b[0m \u001b[32m664.8/664.8 MB\u001b[0m \u001b[31m2.1 MB/s\u001b[0m eta \u001b[36m0:00:00\u001b[0m\n",
            "\u001b[?25hDownloading nvidia_cufft_cu12-11.2.1.3-py3-none-manylinux2014_x86_64.whl (211.5 MB)\n",
            "\u001b[2K   \u001b[90m━━━━━━━━━━━━━━━━━━━━━━━━━━━━━━━━━━━━━━━━\u001b[0m \u001b[32m211.5/211.5 MB\u001b[0m \u001b[31m7.1 MB/s\u001b[0m eta \u001b[36m0:00:00\u001b[0m\n",
            "\u001b[?25hDownloading nvidia_curand_cu12-10.3.5.147-py3-none-manylinux2014_x86_64.whl (56.3 MB)\n",
            "\u001b[2K   \u001b[90m━━━━━━━━━━━━━━━━━━━━━━━━━━━━━━━━━━━━━━━━\u001b[0m \u001b[32m56.3/56.3 MB\u001b[0m \u001b[31m12.6 MB/s\u001b[0m eta \u001b[36m0:00:00\u001b[0m\n",
            "\u001b[?25hDownloading nvidia_cusolver_cu12-11.6.1.9-py3-none-manylinux2014_x86_64.whl (127.9 MB)\n",
            "\u001b[2K   \u001b[90m━━━━━━━━━━━━━━━━━━━━━━━━━━━━━━━━━━━━━━━━\u001b[0m \u001b[32m127.9/127.9 MB\u001b[0m \u001b[31m7.1 MB/s\u001b[0m eta \u001b[36m0:00:00\u001b[0m\n",
            "\u001b[?25hDownloading nvidia_cusparse_cu12-12.3.1.170-py3-none-manylinux2014_x86_64.whl (207.5 MB)\n",
            "\u001b[2K   \u001b[90m━━━━━━━━━━━━━━━━━━━━━━━━━━━━━━━━━━━━━━━━\u001b[0m \u001b[32m207.5/207.5 MB\u001b[0m \u001b[31m4.5 MB/s\u001b[0m eta \u001b[36m0:00:00\u001b[0m\n",
            "\u001b[?25hDownloading nvidia_nvjitlink_cu12-12.4.127-py3-none-manylinux2014_x86_64.whl (21.1 MB)\n",
            "\u001b[2K   \u001b[90m━━━━━━━━━━━━━━━━━━━━━━━━━━━━━━━━━━━━━━━━\u001b[0m \u001b[32m21.1/21.1 MB\u001b[0m \u001b[31m41.7 MB/s\u001b[0m eta \u001b[36m0:00:00\u001b[0m\n",
            "\u001b[?25hDownloading aws_requests_auth-0.4.3-py2.py3-none-any.whl (6.8 kB)\n",
            "Downloading botocore-1.40.2-py3-none-any.whl (13.9 MB)\n",
            "\u001b[2K   \u001b[90m━━━━━━━━━━━━━━━━━━━━━━━━━━━━━━━━━━━━━━━━\u001b[0m \u001b[32m13.9/13.9 MB\u001b[0m \u001b[31m45.5 MB/s\u001b[0m eta \u001b[36m0:00:00\u001b[0m\n",
            "\u001b[?25hDownloading python_xlib-0.33-py2.py3-none-any.whl (182 kB)\n",
            "\u001b[2K   \u001b[90m━━━━━━━━━━━━━━━━━━━━━━━━━━━━━━━━━━━━━━━━\u001b[0m \u001b[32m182.2/182.2 kB\u001b[0m \u001b[31m13.6 MB/s\u001b[0m eta \u001b[36m0:00:00\u001b[0m\n",
            "\u001b[?25hDownloading jmespath-1.0.1-py3-none-any.whl (20 kB)\n",
            "Installing collected packages: python-xlib, pyperplan, nvidia-nvjitlink-cu12, nvidia-curand-cu12, nvidia-cufft-cu12, nvidia-cuda-runtime-cu12, nvidia-cuda-nvrtc-cu12, nvidia-cuda-cupti-cu12, nvidia-cublas-cu12, jmespath, nvidia-cusparse-cu12, nvidia-cudnn-cu12, botocore, aws-requests-auth, nvidia-cusolver-cu12, ai2thor\n",
            "  Attempting uninstall: nvidia-nvjitlink-cu12\n",
            "    Found existing installation: nvidia-nvjitlink-cu12 12.5.82\n",
            "    Uninstalling nvidia-nvjitlink-cu12-12.5.82:\n",
            "      Successfully uninstalled nvidia-nvjitlink-cu12-12.5.82\n",
            "  Attempting uninstall: nvidia-curand-cu12\n",
            "    Found existing installation: nvidia-curand-cu12 10.3.6.82\n",
            "    Uninstalling nvidia-curand-cu12-10.3.6.82:\n",
            "      Successfully uninstalled nvidia-curand-cu12-10.3.6.82\n",
            "  Attempting uninstall: nvidia-cufft-cu12\n",
            "    Found existing installation: nvidia-cufft-cu12 11.2.3.61\n",
            "    Uninstalling nvidia-cufft-cu12-11.2.3.61:\n",
            "      Successfully uninstalled nvidia-cufft-cu12-11.2.3.61\n",
            "  Attempting uninstall: nvidia-cuda-runtime-cu12\n",
            "    Found existing installation: nvidia-cuda-runtime-cu12 12.5.82\n",
            "    Uninstalling nvidia-cuda-runtime-cu12-12.5.82:\n",
            "      Successfully uninstalled nvidia-cuda-runtime-cu12-12.5.82\n",
            "  Attempting uninstall: nvidia-cuda-nvrtc-cu12\n",
            "    Found existing installation: nvidia-cuda-nvrtc-cu12 12.5.82\n",
            "    Uninstalling nvidia-cuda-nvrtc-cu12-12.5.82:\n",
            "      Successfully uninstalled nvidia-cuda-nvrtc-cu12-12.5.82\n",
            "  Attempting uninstall: nvidia-cuda-cupti-cu12\n",
            "    Found existing installation: nvidia-cuda-cupti-cu12 12.5.82\n",
            "    Uninstalling nvidia-cuda-cupti-cu12-12.5.82:\n",
            "      Successfully uninstalled nvidia-cuda-cupti-cu12-12.5.82\n",
            "  Attempting uninstall: nvidia-cublas-cu12\n",
            "    Found existing installation: nvidia-cublas-cu12 12.5.3.2\n",
            "    Uninstalling nvidia-cublas-cu12-12.5.3.2:\n",
            "      Successfully uninstalled nvidia-cublas-cu12-12.5.3.2\n",
            "  Attempting uninstall: nvidia-cusparse-cu12\n",
            "    Found existing installation: nvidia-cusparse-cu12 12.5.1.3\n",
            "    Uninstalling nvidia-cusparse-cu12-12.5.1.3:\n",
            "      Successfully uninstalled nvidia-cusparse-cu12-12.5.1.3\n",
            "  Attempting uninstall: nvidia-cudnn-cu12\n",
            "    Found existing installation: nvidia-cudnn-cu12 9.3.0.75\n",
            "    Uninstalling nvidia-cudnn-cu12-9.3.0.75:\n",
            "      Successfully uninstalled nvidia-cudnn-cu12-9.3.0.75\n",
            "  Attempting uninstall: nvidia-cusolver-cu12\n",
            "    Found existing installation: nvidia-cusolver-cu12 11.6.3.83\n",
            "    Uninstalling nvidia-cusolver-cu12-11.6.3.83:\n",
            "      Successfully uninstalled nvidia-cusolver-cu12-11.6.3.83\n",
            "Successfully installed ai2thor-5.0.0 aws-requests-auth-0.4.3 botocore-1.40.2 jmespath-1.0.1 nvidia-cublas-cu12-12.4.5.8 nvidia-cuda-cupti-cu12-12.4.127 nvidia-cuda-nvrtc-cu12-12.4.127 nvidia-cuda-runtime-cu12-12.4.127 nvidia-cudnn-cu12-9.1.0.70 nvidia-cufft-cu12-11.2.1.3 nvidia-curand-cu12-10.3.5.147 nvidia-cusolver-cu12-11.6.1.9 nvidia-cusparse-cu12-12.3.1.170 nvidia-nvjitlink-cu12-12.4.127 pyperplan-2.1 python-xlib-0.33\n"
          ]
        }
      ],
      "source": [
        "import os\n",
        "\n",
        "# 2. Change working directory to /content\n",
        "%cd /content\n",
        "\n",
        "# 3. Unzip the project archive from Drive\n",
        "!unzip \"/content/AI2THOR_ws.zip\" > /dev/null\n",
        "%cd AI2THOR_ws\n",
        "\n",
        "# 4. Install required Python package\n",
        "!pip install -r requirements.txt > /dev/null"
      ]
    },
    {
      "cell_type": "code",
      "execution_count": null,
      "metadata": {
        "colab": {
          "base_uri": "https://localhost:8080/",
          "height": 108
        },
        "id": "U6vwWM3rH1GN",
        "outputId": "7b03848d-0af6-4484-e796-aff3ace4a60c"
      },
      "outputs": [
        {
          "output_type": "stream",
          "name": "stderr",
          "text": [
            "WARNING:py.warnings:/usr/local/lib/python3.11/dist-packages/moviepy/video/io/sliders.py:61: SyntaxWarning: \"is\" with a literal. Did you mean \"==\"?\n",
            "  if event.key is 'enter':\n",
            "\n"
          ]
        },
        {
          "output_type": "display_data",
          "data": {
            "text/plain": [
              "<IPython.core.display.HTML object>"
            ],
            "text/html": [
              "\n",
              "            <progress value='100' max=\"100\", style='width: 100%'>\n",
              "                100\n",
              "            </progress>\n",
              "        "
            ]
          },
          "metadata": {}
        },
        {
          "output_type": "execute_result",
          "data": {
            "text/plain": [
              "'AI2-THOR Version: 5.0.0'"
            ],
            "application/vnd.google.colaboratory.intrinsic+json": {
              "type": "string"
            }
          },
          "metadata": {},
          "execution_count": 3
        }
      ],
      "source": [
        "# Install or upgrade the AI2-THOR and Colab extension Python packages\n",
        "!pip install --upgrade ai2thor ai2thor-colab &> /dev/null\n",
        "import ai2thor\n",
        "import ai2thor_colab\n",
        "\n",
        "# Bring in the Controller class and visualization utilities\n",
        "from ai2thor.controller import Controller\n",
        "from ai2thor_colab import (\n",
        "    plot_frames,\n",
        "    show_objects_table,\n",
        "    side_by_side,\n",
        "    overlay,\n",
        "    show_video\n",
        ")\n",
        "\n",
        "# Start the X-server for rendering in Colab\n",
        "ai2thor_colab.start_xserver()\n",
        "\"AI2-THOR Version: \" + ai2thor.__version__"
      ]
    },
    {
      "cell_type": "code",
      "execution_count": null,
      "metadata": {
        "colab": {
          "base_uri": "https://localhost:8080/"
        },
        "id": "OlCeVSTpIT_v",
        "outputId": "cc5b6a82-e222-453b-81bb-ea6cca0f8e3a"
      },
      "outputs": [
        {
          "output_type": "stream",
          "name": "stderr",
          "text": [
            "thor-Linux64-f0825767cd50d69f666c7f282e54abfe58f1e917.zip: [ \u001b[38;2;0;255;0m100%\u001b[39m  25.2 MiB/s]  of 769.MB\n"
          ]
        },
        {
          "output_type": "stream",
          "name": "stdout",
          "text": [
            "/content/AI2THOR_ws/AI2THOR_ws/task_planning\n"
          ]
        }
      ],
      "source": [
        "# Generate Controller Instance\n",
        "controller = Controller()\n",
        "%cd task_planning/"
      ]
    },
    {
      "cell_type": "markdown",
      "source": [
        "## Task setup: toastBread\n",
        "\n",
        "In this task, the agent is required to **slice bread using a knife, store the sliced bread in the drawer, toast the bread in the toaster, and then place the toasted slices onto a plate**. The LLM/VLM planner can generate a sequence of actions that are then executed and visualized within the AI2-THOR kitchen environment.\n"
      ],
      "metadata": {
        "id": "hXWo2rXz_cFR"
      }
    },
    {
      "cell_type": "markdown",
      "source": [
        "Initialize the robot and target objects in the scene of AI2-THOR."
      ],
      "metadata": {
        "id": "3WmH7mb4ilyG"
      }
    },
    {
      "cell_type": "code",
      "execution_count": null,
      "metadata": {
        "id": "-u4qjfJ7JvzZ"
      },
      "outputs": [],
      "source": [
        "# Define the task context for Task: toastBread\n",
        "task_context = {\n",
        "  \"task_idx\": 3,\n",
        "  \"task\": \"toastBread\",\n",
        "  \"scene\": \"FloorPlan22\",\n",
        "  \"robot_init_state\": {\n",
        "    \"position\": {\n",
        "      \"x\": 0.3,\n",
        "      \"y\": 0.9,\n",
        "      \"z\": -0.65\n",
        "    },\n",
        "    \"rotation\": {\n",
        "      \"x\": 0,\n",
        "      \"y\": 180.0,\n",
        "      \"z\": 0\n",
        "    },\n",
        "    \"horizon\": 50.0\n",
        "  },\n",
        "  \"objects_init_state\": [\n",
        "    {\n",
        "      \"objectType\": \"Toaster\",\n",
        "      \"objectName\": \"Toaster_d7793033\",\n",
        "      \"position\": {\n",
        "        \"x\": 0.28,\n",
        "        \"y\": 0.9,\n",
        "        \"z\": -1.1\n",
        "      },\n",
        "      \"rotation\": {\n",
        "        \"x\": -0.0,\n",
        "        \"y\": 360,\n",
        "        \"z\": -0.0\n",
        "      },\n",
        "      \"property\": {}\n",
        "    },\n",
        "    {\n",
        "      \"objectType\": \"Bread\",\n",
        "      \"objectName\": \"Bread_0616e5b9\",\n",
        "      \"position\": {\n",
        "        \"x\": -0.1,\n",
        "        \"y\": 0.95,\n",
        "        \"z\": -1.0\n",
        "      },\n",
        "      \"rotation\": {\n",
        "        \"x\": 359.99,\n",
        "        \"y\": 0.01,\n",
        "        \"z\": 359.95\n",
        "      },\n",
        "      \"property\": {}\n",
        "    },\n",
        "    {\n",
        "      \"objectType\": \"Knife\",\n",
        "      \"objectName\": \"Knife_706cb9de\",\n",
        "      \"position\": {\n",
        "        \"x\": -0.4,\n",
        "        \"y\": 0.95,\n",
        "        \"z\": -1.0\n",
        "      },\n",
        "      \"rotation\": {\n",
        "        \"x\": -0.0,\n",
        "        \"y\": 121.29,\n",
        "        \"z\": 270.0\n",
        "      },\n",
        "      \"property\": {}\n",
        "    },\n",
        "    {\n",
        "      \"objectType\": \"Plate\",\n",
        "      \"objectName\": \"Plate_77c0067b\",\n",
        "      \"position\": {\n",
        "        \"x\": 0.7,\n",
        "        \"y\": 0.9,\n",
        "        \"z\": -1.1\n",
        "      },\n",
        "      \"rotation\": {\n",
        "        \"x\": 0.0,\n",
        "        \"y\": 0.0,\n",
        "        \"z\": 0.0\n",
        "      },\n",
        "      \"property\": {}\n",
        "    }\n",
        "  ]\n",
        "}"
      ]
    },
    {
      "cell_type": "code",
      "execution_count": null,
      "metadata": {
        "id": "tVjD3rqyJwrn",
        "colab": {
          "base_uri": "https://localhost:8080/",
          "height": 425
        },
        "outputId": "df6e9eee-ec21-4f83-a1b8-7217fad51e2e"
      },
      "outputs": [
        {
          "output_type": "display_data",
          "data": {
            "text/plain": [
              "<Figure size 450x450 with 1 Axes>"
            ],
            "image/png": "[encoded data removed]"
          },
          "metadata": {}
        }
      ],
      "source": [
        "# Reset the AI2-THOR controller to load the specified scene\n",
        "# and configure rendering parameters\n",
        "controller.reset(\n",
        "    scene = task_context[\"scene\"],\n",
        "    visibilityDistance=1.5,\n",
        "    gridSize=0.05,\n",
        "    fieldOfView=90,\n",
        "    width=500,\n",
        "    height=500,\n",
        "    renderDepthImage=False,\n",
        "    renderNormalsImage=False,\n",
        "    renderInstanceSegmentation=False,\n",
        "    renderSemanticSegmentation=False\n",
        ")\n",
        "\n",
        "# Prepare and send object poses to the controller\n",
        "object_poses = []\n",
        "for object_init_state in task_context[\"objects_init_state\"]:\n",
        "    object_poses.append(\n",
        "        {\n",
        "            \"objectName\": object_init_state[\"objectName\"],\n",
        "            \"position\": object_init_state[\"position\"],\n",
        "            \"rotation\": object_init_state[\"rotation\"],\n",
        "        }\n",
        "    )\n",
        "controller.step(action=\"SetObjectPoses\", objectPoses=object_poses)\n",
        "controller.step(action=\"Done\")\n",
        "\n",
        "# Teleport the agent to its initial position and orientation\n",
        "controller.step(\n",
        "    action=\"Teleport\",\n",
        "    position=task_context['robot_init_state']['position'],\n",
        "    rotation=task_context['robot_init_state']['rotation'],\n",
        "    horizon=task_context['robot_init_state']['horizon'],\n",
        "    standing=True,\n",
        ")\n",
        "# Render and display the current camera view\n",
        "plot_frames(controller.last_event)\n",
        "\n",
        "from PIL import Image\n",
        "import numpy as np\n",
        "\n",
        "# Save initial scene for multimodal planning\n",
        "rgb_frame = controller.last_event.frame  # (H, W, 3) RGB array\n",
        "rgb_image = Image.fromarray(rgb_frame)\n",
        "rgb_image.save(\"/content/init_scene.png\")"
      ]
    },
    {
      "cell_type": "markdown",
      "source": [
        "Develop a controller wrapper for AI2-THOR that\n",
        "\n",
        "*   initializes scenes based on a task-context dictionary,\n",
        "*   executes high-level action classes (e.g., open, close, pick up), and\n",
        "*   records events and RGB frames for subsequent analysis or video generation."
      ],
      "metadata": {
        "id": "7X4A_8agjAy5"
      }
    },
    {
      "cell_type": "code",
      "execution_count": null,
      "metadata": {
        "id": "ogBlBp6uKkHd"
      },
      "outputs": [],
      "source": [
        "import os\n",
        "import json\n",
        "import pickle\n",
        "import time\n",
        "import numpy as np\n",
        "import matplotlib.pyplot as plt\n",
        "\n",
        "from ai2thor.controller import Controller\n",
        "from ai2thor.platform import Linux64, CloudRendering\n",
        "from actions import get_action_classes\n",
        "from plan_success_checker import check_task_success\n",
        "\n",
        "\n",
        "class Thor:\n",
        "    \"\"\"Thin wrapper around AI2-THOR’s Controller that:\n",
        "       • sets up the scene from a task-context dictionary\n",
        "       • executes high-level action classes (open, close, pick-up, …)\n",
        "       • logs events / RGB frames for later analysis or video creation\n",
        "    \"\"\"\n",
        "\n",
        "    def __init__(self, task_context: dict, scenario_idx: int, records_dir: str):\n",
        "        \"\"\"Create a Thor helper and immediately initialize the simulator.\"\"\"\n",
        "        self.controller = None\n",
        "        self.counter = 0\n",
        "        self.task_context = task_context\n",
        "        self.records_dir = records_dir\n",
        "        self.log_archive = {}\n",
        "\n",
        "        # Available high-level actions (parsed from natural language commands).\n",
        "        self.action_space = get_action_classes()\n",
        "        self.init_env()\n",
        "\n",
        "    # ----------------------------------------------------------------------\n",
        "    # Environment setup\n",
        "    # ----------------------------------------------------------------------\n",
        "    def init_env(self):\n",
        "        \"\"\"Reset the AI2-THOR scene, place objects, and teleport the agent.\"\"\"\n",
        "        self.controller = Controller()\n",
        "        # Scene-level parameters (FOV, resolution, etc.)\n",
        "        self.controller.reset(\n",
        "            scene=self.task_context[\"scene\"],\n",
        "            visibilityDistance=1.5,\n",
        "            gridSize=0.05,\n",
        "            fieldOfView=90,\n",
        "            width=500,\n",
        "            height=500,\n",
        "            renderDepthImage=False,\n",
        "            renderNormalsImage=False,\n",
        "            renderInstanceSegmentation=False,\n",
        "            renderSemanticSegmentation=False,\n",
        "        )\n",
        "\n",
        "        # Place all task-specific objects at their initial poses\n",
        "        object_poses = [\n",
        "            {\n",
        "                \"objectName\": obj[\"objectName\"],\n",
        "                \"position\": obj[\"position\"],\n",
        "                \"rotation\": obj[\"rotation\"],\n",
        "            }\n",
        "            for obj in self.task_context[\"objects_init_state\"]\n",
        "        ]\n",
        "        self.controller.step(action=\"SetObjectPoses\", objectPoses=object_poses)\n",
        "        self.controller.step(action=\"Done\")\n",
        "\n",
        "        # Teleport the agent to its start pose (position, rotation, horizon)\n",
        "        self.controller.step(\n",
        "            action=\"Teleport\",\n",
        "            position=self.task_context[\"robot_init_state\"][\"position\"],\n",
        "            rotation=self.task_context[\"robot_init_state\"][\"rotation\"],\n",
        "            horizon=self.task_context[\"robot_init_state\"][\"horizon\"],\n",
        "            standing=True,\n",
        "        )\n",
        "        self.controller.step(action=\"Done\")\n",
        "\n",
        "    # ----------------------------------------------------------------------\n",
        "    # Convenience properties\n",
        "    # ----------------------------------------------------------------------\n",
        "    @property\n",
        "    def is_hand_empty(self) -> bool:\n",
        "        \"\"\"True if the agent is not holding any object.\"\"\"\n",
        "        return self.agent_state[\"isHolding\"] is None\n",
        "\n",
        "    @property\n",
        "    def agent_state(self) -> dict:\n",
        "        \"\"\"Return the current agent metadata with an extra 'isHolding' field.\"\"\"\n",
        "        event = self.controller.last_event\n",
        "        agent = event.metadata[\"agent\"]\n",
        "        agent[\"isHolding\"] = None\n",
        "        # Determine which object (if any) is currently picked up\n",
        "        for obj in self.objects_state:\n",
        "            if obj.get(\"pickupable\") and obj.get(\"isPickedUp\"):\n",
        "                agent[\"isHolding\"] = obj\n",
        "                break\n",
        "        return agent\n",
        "\n",
        "    @property\n",
        "    def objects_state(self) -> list:\n",
        "        \"\"\"Return metadata for all objects visible in the current frame.\"\"\"\n",
        "        return self.controller.last_event.metadata[\"objects\"]\n",
        "\n",
        "    @property\n",
        "    def rgb_frame(self) -> np.ndarray:\n",
        "        \"\"\"Return the current RGB image rendered by AI2-THOR.\"\"\"\n",
        "        return self.controller.last_event.frame\n",
        "\n",
        "    # ----------------------------------------------------------------------\n",
        "    # Object-lookup helpers\n",
        "    # ----------------------------------------------------------------------\n",
        "    def get_objectsByType(self, objectType: str) -> list:\n",
        "        \"\"\"Return all objects of a given AI2-THOR objectType.\"\"\"\n",
        "        return [o for o in self.objects_state if o[\"objectType\"].lower() == objectType.lower()]\n",
        "\n",
        "    def get_objectById(self, objectId: str):\n",
        "        \"\"\"Return a single object by its unique objectId (or None).\"\"\"\n",
        "        return next((o for o in self.objects_state if o[\"objectId\"] == objectId), None)\n",
        "\n",
        "    def get_objectByName(self, objectName: str):\n",
        "        \"\"\"Return a single object by its human-readable name (or None).\"\"\"\n",
        "        return next((o for o in self.objects_state if o[\"name\"] == objectName), None)\n",
        "\n",
        "    def get_closestObject(self, objects: list):\n",
        "        \"\"\"Given a list of objects, return the one closest to the agent.\"\"\"\n",
        "        agent_pos = self.agent_state[\"position\"]\n",
        "\n",
        "        def euclidean(p):\n",
        "            return ((p[\"x\"] - agent_pos[\"x\"]) ** 2 + (p[\"y\"] - agent_pos[\"y\"]) ** 2 + (p[\"z\"] - agent_pos[\"z\"]) ** 2) ** 0.5\n",
        "\n",
        "        return min(objects, key=lambda o: euclidean(o[\"position\"])) if objects else None\n",
        "\n",
        "    # ----------------------------------------------------------------------\n",
        "    # Logging utilities\n",
        "    # ----------------------------------------------------------------------\n",
        "    def log(self, success: bool, message: str):\n",
        "        \"\"\"Print and archive a log message for the current frame counter.\"\"\"\n",
        "        if not message:\n",
        "            return\n",
        "        tag = \"[INFO]\" if success else \"[ERROR]\"\n",
        "        msg = f\"Frame {self.counter:03d} | {tag} {message}\"\n",
        "        print(msg)\n",
        "        self.log_archive[self.counter] = msg\n",
        "\n",
        "    def save_data(self, log_flag: bool = True):\n",
        "        \"\"\"Save the current event + RGB frame and advance the frame counter.\"\"\"\n",
        "        if log_flag:\n",
        "            os.makedirs(f\"{self.records_dir}/events\", exist_ok=True)\n",
        "            with open(f\"{self.records_dir}/events/step_{self.counter}.pickle\", \"wb\") as f:\n",
        "                pickle.dump(self.controller.last_event, f, protocol=pickle.HIGHEST_PROTOCOL)\n",
        "\n",
        "        os.makedirs(f\"{self.records_dir}/ego_img\", exist_ok=True)\n",
        "        plt.imsave(\n",
        "            f\"{self.records_dir}/ego_img/step_{self.counter}.png\",\n",
        "            np.asarray(self.rgb_frame, order=\"C\"),\n",
        "        )\n",
        "        self.counter += 1\n"
      ]
    },
    {
      "cell_type": "markdown",
      "source": [
        "## 1. Zero-shot Task Planner\n",
        "Write a zero-shot prompt (no examples) to perform the **toastBread** task. Your prompt must adhere to the **two prompt requirements** at the top of this notebook.\n"
      ],
      "metadata": {
        "id": "czC3LvYO08-t"
      }
    },
    {
      "cell_type": "markdown",
      "source": [
        "###  1.1 Zero-shot Prompt Formulation\n",
        "Compose a prompt and copy/paste it into ChatGPT-4o (or another LLM) to generate the JSON plan."
      ],
      "metadata": {
        "id": "8cHe7GKQAvw4"
      }
    },
    {
      "cell_type": "code",
      "source": [
        "########################## TODO ##########################\n",
        "# Generate Zero-shot Prompt\n",
        "\n",
        "prompt = \"\"\"\n",
        "You are a robotic task planner.\n",
        "\n",
        "Your task is to generate a plan to complete the given instruction using only the specified action templates and objects.\n",
        "\n",
        "Task: Slice bread, store the knife in the drawer, heat the bread and serve it on the plate on the countertop.\n",
        "\n",
        "Objects:\n",
        "- knife\n",
        "- bread\n",
        "- drawer\n",
        "- toaster\n",
        "- plate\n",
        "- countertop\n",
        "\n",
        "Init States:\n",
        "- plate is on countertop\n",
        "- toaster is off\n",
        "- bread is unsliced\n",
        "- knife is on countertop\n",
        "\n",
        "Available action templates (use only these forms):\n",
        "- \"close\" <object>\n",
        "- \"open\" <object>\n",
        "- \"pick up\" <object>\n",
        "- \"place\" <object> \"in\" <object>\n",
        "- \"place\" <object> \"on\" <object>\n",
        "- \"slice\" <object>\n",
        "- \"turn off\" <object>\n",
        "- \"turn on\" <object>\n",
        "\n",
        "Instructions:\n",
        "- Each action must strictly match one of the templates above.\n",
        "- Use only the provided objects.\n",
        "- Return only a JSON object where keys are step numbers as strings and values are action strings.\n",
        "- Do not include any explanations or reasoning — return only the JSON plan.\n",
        "\n",
        "Plan:\n",
        "\"\"\"\n",
        "##########################################################\n",
        "\n",
        "print(\"=== Zero-shot Prompt ===\\n\")\n",
        "print(prompt)"
      ],
      "metadata": {
        "colab": {
          "base_uri": "https://localhost:8080/"
        },
        "id": "-Zqrj_gmzfQM",
        "outputId": "6f1dbd4c-8954-48e7-f75b-44d5ca56fe54"
      },
      "execution_count": null,
      "outputs": [
        {
          "output_type": "stream",
          "name": "stdout",
          "text": [
            "=== Zero-shot Prompt ===\n",
            "\n",
            "\n",
            "You are a robotic task planner.\n",
            "\n",
            "Your task is to generate a plan to complete the given instruction using only the specified action templates and objects.\n",
            "\n",
            "Task: Slice bread, store the knife in the drawer, heat the bread and serve it on the plate on the countertop.\n",
            "\n",
            "Objects:\n",
            "- knife\n",
            "- bread\n",
            "- drawer\n",
            "- toaster\n",
            "- plate\n",
            "- countertop\n",
            "\n",
            "Init States:\n",
            "- plate is on countertop\n",
            "- toaster is off\n",
            "- bread is unsliced\n",
            "- knife is on countertop\n",
            "\n",
            "Available action templates (use only these forms):\n",
            "- \"close\" <object>\n",
            "- \"open\" <object>\n",
            "- \"pick up\" <object>\n",
            "- \"place\" <object> \"in\" <object>\n",
            "- \"place\" <object> \"on\" <object>\n",
            "- \"slice\" <object>\n",
            "- \"turn off\" <object>\n",
            "- \"turn on\" <object>\n",
            "\n",
            "Instructions:\n",
            "- Each action must strictly match one of the templates above.\n",
            "- Use only the provided objects.\n",
            "- Return only a JSON object where keys are step numbers as strings and values are action strings.\n",
            "- Do not include any explanations or reasoning — return only the JSON plan.\n",
            "\n",
            "Plan:\n",
            "\n"
          ]
        }
      ]
    },
    {
      "cell_type": "markdown",
      "source": [
        "###   1.2 JSON Plan Acquisition via LLM\n",
        "Copy/paste the JSON task plan, generated by your LLM, into the TODO section below. So, we extract a sequence of actions.  "
      ],
      "metadata": {
        "id": "KJIktYskAfL-"
      }
    },
    {
      "cell_type": "code",
      "execution_count": null,
      "metadata": {
        "id": "J5OX-46TQ-cb"
      },
      "outputs": [],
      "source": [
        "import json\n",
        "import time\n",
        "\n",
        "# Create Thor instance\n",
        "thor = Thor(task_context, scenario_idx=-1, records_dir=\"test/ZeroShot/\")\n",
        "\n",
        "########################## TODO ##########################\n",
        "# JSON plan obtained from the LLM\n",
        "zero_shot_answer = \"\"\"\n",
        "{\n",
        "  \"1\": \"pick up knife\",\n",
        "  \"2\": \"pick up bread\",\n",
        "  \"3\": \"slice bread\",\n",
        "  \"4\": \"place knife in drawer\",\n",
        "  \"5\": \"place bread in toaster\",\n",
        "  \"6\": \"turn on toaster\",\n",
        "  \"7\": \"pick up bread\",\n",
        "  \"8\": \"place bread on plate\"\n",
        "}\n",
        "\"\"\"\n",
        "##########################################################\n",
        "\n",
        "# Convert JSON string to a Python dict\n",
        "plan_dict = json.loads(zero_shot_answer)\n",
        "\n",
        "# Iterate through the dict in step order and create action objects\n",
        "actions = []\n",
        "for step, action_string in sorted(plan_dict.items(), key=lambda x: int(x[0])):\n",
        "    for action_class in thor.action_space:\n",
        "        action_args = action_class.parse(action_string)\n",
        "        if action_args is not None:\n",
        "            actions.append(action_class(thor, action_args))\n",
        "            break\n"
      ]
    },
    {
      "cell_type": "markdown",
      "source": [
        "### 1.3 Execution in the AI2-THOR Environment"
      ],
      "metadata": {
        "id": "6oHRijdMBJpw"
      }
    },
    {
      "cell_type": "markdown",
      "source": [
        "Simulate the plan and verify why the generated plan"
      ],
      "metadata": {
        "id": "YvuIFk3JxHku"
      }
    },
    {
      "cell_type": "code",
      "source": [
        "print(\"\\n==========================================\")\n",
        "print(\"Action Execution\")\n",
        "print(\"==========================================\")\n",
        "\n",
        "# Execute actions sequentially\n",
        "for idx, action in enumerate(actions, start=1):\n",
        "    print(f\"{idx}. Executing: {action}\")\n",
        "    action.execute()\n",
        "    thor.log(success=True, message=f\"after {action}\")\n",
        "    time.sleep(1)"
      ],
      "metadata": {
        "colab": {
          "base_uri": "https://localhost:8080/"
        },
        "id": "ndmKCbaoBI2h",
        "outputId": "a13dcc67-46ad-4af4-8d80-e996633d87e3"
      },
      "execution_count": null,
      "outputs": [
        {
          "output_type": "stream",
          "name": "stdout",
          "text": [
            "\n",
            "==========================================\n",
            "Action Execution\n",
            "==========================================\n",
            "1. Executing: <actions.pickup_action.PickUp object at 0x78aa6a829710>\n",
            "Frame 000 | [INFO] pick up knife\n",
            "Frame 001 | [INFO] pick up knife succeeded\n",
            "Frame 002 | [INFO] after <actions.pickup_action.PickUp object at 0x78aa6a829710>\n",
            "2. Executing: <actions.pickup_action.PickUp object at 0x78aa6a829610>\n",
            "Frame 002 | [INFO] pick up bread\n",
            "Frame 003 | [ERROR] pick up bread failed: Precondition Violation for pick up bread: pick up bread failed: Robot is already holding an object, cannot pick up Bread\n",
            "Frame 004 | [INFO] after <actions.pickup_action.PickUp object at 0x78aa6a829610>\n",
            "3. Executing: <actions.slice_object.Slice object at 0x78aa6a8298d0>\n",
            "Frame 004 | [INFO] slice bread\n",
            "Frame 005 | [INFO] slice bread succeeded\n",
            "Frame 006 | [INFO] after <actions.slice_object.Slice object at 0x78aa6a8298d0>\n",
            "4. Executing: <actions.placein_action.PlaceIn object at 0x78aa6a828f50>\n",
            "Frame 006 | [INFO] place knife in drawer\n",
            "Frame 007 | [ERROR] place knife in drawer failed: Precondition Violation for place knife in drawer: Drawer is not open\n",
            "Frame 008 | [INFO] after <actions.placein_action.PlaceIn object at 0x78aa6a828f50>\n",
            "5. Executing: <actions.placein_action.PlaceIn object at 0x78aa6a829a50>\n",
            "Frame 008 | [INFO] place bread in toaster\n",
            "Frame 009 | [ERROR] place bread in toaster failed: Precondition Violation for place bread in toaster: place bread in toaster failed: Robot is holding knife, not bread\n",
            "Frame 010 | [INFO] after <actions.placein_action.PlaceIn object at 0x78aa6a829a50>\n",
            "6. Executing: <actions.turnon.TurnOn object at 0x78aa6a829f90>\n",
            "Frame 010 | [INFO] turn on toaster\n",
            "Frame 011 | [INFO] turn on toaster succeeded\n",
            "Frame 012 | [INFO] after <actions.turnon.TurnOn object at 0x78aa6a829f90>\n",
            "7. Executing: <actions.pickup_action.PickUp object at 0x78aa6a829d10>\n",
            "Frame 012 | [INFO] pick up bread\n",
            "Frame 013 | [ERROR] pick up bread failed: Precondition Violation for pick up bread: pick up bread failed: Robot is already holding an object, cannot pick up BreadSliced\n",
            "Frame 014 | [INFO] after <actions.pickup_action.PickUp object at 0x78aa6a829d10>\n",
            "8. Executing: <actions.placeon_action.PlaceOn object at 0x78aa6a829d50>\n",
            "Frame 014 | [INFO] place bread on plate\n",
            "Frame 015 | [ERROR] place bread on plate failed: Precondition Violation for place bread on plate: place bread on plate failed: Robot is holding knife, not bread\n",
            "Frame 016 | [INFO] after <actions.placeon_action.PlaceOn object at 0x78aa6a829d50>\n"
          ]
        }
      ]
    },
    {
      "cell_type": "code",
      "execution_count": null,
      "metadata": {
        "colab": {
          "base_uri": "https://localhost:8080/",
          "height": 477
        },
        "id": "d89kABsFLFB4",
        "outputId": "38a8538b-006b-4245-b63c-9e6d022ce9a3"
      },
      "outputs": [
        {
          "output_type": "stream",
          "name": "stderr",
          "text": [
            "WARNING:imageio_ffmpeg:IMAGEIO FFMPEG_WRITER WARNING: input image is not divisible by macro_block_size=16, resizing from (500, 500) to (512, 512) to ensure video compatibility with most codecs and players. To prevent resizing, make your input image divisible by the macro_block_size or set the macro_block_size to 1 (risking incompatibility).\n"
          ]
        },
        {
          "output_type": "stream",
          "name": "stdout",
          "text": [
            "Saved video: test/ZeroShot/ZeroShot.mp4\n"
          ]
        },
        {
          "output_type": "execute_result",
          "data": {
            "text/plain": [
              "<IPython.core.display.Video object>"
            ],
            "text/html": [
              "<video controls  width=\"400\" >\n",
              " <source src=\"data:video/mp4;base64,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\" type=\"video/mp4\">\n",
              " Your browser does not support the video tag.\n",
              " </video>"
            ]
          },
          "metadata": {},
          "execution_count": 11
        }
      ],
      "source": [
        "import imageio, glob, os, numpy as np, PIL\n",
        "\n",
        "# Convert saved PNG frames into an MP4 video\n",
        "def make_video_from_frames(records_dir, output_fname=\"plan_execution.mp4\", fps=4):\n",
        "    img_dir = os.path.join(records_dir, \"ego_img\")\n",
        "    pngs = sorted(glob.glob(f\"{img_dir}/step_*.png\"),\n",
        "                  key=lambda p: int(os.path.splitext(os.path.basename(p))[0].split(\"_\")[-1]))\n",
        "    if not pngs:\n",
        "        print(\"No frames to make video.\")\n",
        "        return\n",
        "    out_path = os.path.join(records_dir, output_fname)\n",
        "    with imageio.get_writer(out_path, fps=fps) as writer:\n",
        "        for p in pngs:\n",
        "            img = PIL.Image.open(p).convert(\"RGB\")\n",
        "            writer.append_data(np.array(img))\n",
        "    print(f\"Saved video: {out_path}\")\n",
        "\n",
        "# Build the video\n",
        "if __name__ == \"__main__\":\n",
        "    make_video_from_frames(\n",
        "            records_dir=thor.records_dir,\n",
        "            output_fname=\"ZeroShot.mp4\",\n",
        "            fps=4\n",
        "        )\n",
        "\n",
        "# Play the execution video for the ZeroShot plan\n",
        "from IPython.display import Video\n",
        "Video(\"test/ZeroShot/ZeroShot.mp4\", embed=True, width=400)"
      ]
    },
    {
      "cell_type": "markdown",
      "source": [
        "## 2. Few-shot Task Planner\n",
        "Write a few-shot prompt (include 1–2 demonstration examples) to perform the **toastBread** task. Your prompt must adhere to the **two prompt requirements** at the top of this notebook."
      ],
      "metadata": {
        "id": "FxGpZEWMGpPh"
      }
    },
    {
      "cell_type": "markdown",
      "source": [
        "###  2.1 Few-shot Prompt Formulation\n",
        "Compose a prompt and copy/paste it into ChatGPT-4o (or another LLM) to generate the JSON plan."
      ],
      "metadata": {
        "id": "jY-1H7TdGtuz"
      }
    },
    {
      "cell_type": "code",
      "source": [
        "########################## TODO ##########################\n",
        "# Generate Few-shot Prompt\n",
        "\n",
        "prompt = \"\"\"You are a robotic task planner.\n",
        "\n",
        "Your task is to generate a plan to complete the given instruction using only the specified action templates and objects.\n",
        "\n",
        "Task: Boil the tomato in a pot and place the pot on the countertop.\n",
        "\n",
        "Objects:\n",
        "- tomato\n",
        "- pot\n",
        "- sink\n",
        "- faucet\n",
        "- stoveburner\n",
        "- countertop\n",
        "\n",
        "Available action templates (use only these forms):\n",
        "- \"close\" <object>\n",
        "- \"open\" <object>\n",
        "- \"pick up\" <object>\n",
        "- \"place\" <object> \"in\" <object>\n",
        "- \"place\" <object> \"on\" <object>\n",
        "- \"slice\" <object>\n",
        "- \"turn off\" <object>\n",
        "- \"turn on\" <object>\n",
        "\n",
        "Instructions:\n",
        "- Each action must strictly match one of the templates above.\n",
        "- Use only the provided objects.\n",
        "- Return the result as a JSON object where keys are step numbers as strings (e.g., \"1\", \"2\", ...) and values are action strings.\n",
        "- Do not include any explanations or reasoning — return only the JSON plan.\n",
        "\n",
        "Example:\n",
        "{\n",
        "  \"1\": \"pick up tomato\",\n",
        "  \"2\": \"place tomato in pot\",\n",
        "  \"3\": \"pick up pot\",\n",
        "  \"4\": \"place pot in sink\",\n",
        "  \"5\": \"turn on faucet\",\n",
        "  \"6\": \"turn off faucet\",\n",
        "  \"7\": \"pick up pot\",\n",
        "  \"8\": \"place pot on stoveburner\",\n",
        "  \"9\": \"turn on stoveburner\",\n",
        "  \"10\": \"pick up pot\",\n",
        "  \"11\": \"place pot on countertop\"\n",
        "}\n",
        "\n",
        "Task: Slice bread, store the knife in the drawer, heat the bread and serve it on the plate on the countertop.\n",
        "\n",
        "Objects:\n",
        "- knife\n",
        "- bread\n",
        "- drawer\n",
        "- toaster\n",
        "- plate\n",
        "- countertop\n",
        "\n",
        "Init States:\n",
        "- plate is on countertop\n",
        "- toaster is off\n",
        "- bread is unsliced\n",
        "- knife is on countertop\n",
        "\n",
        "Plan:\n",
        "\"\"\"\n",
        "##########################################################\n",
        "\n",
        "print(\"=== Few-shot Prompt ===\\n\")\n",
        "print(prompt)"
      ],
      "metadata": {
        "colab": {
          "base_uri": "https://localhost:8080/"
        },
        "id": "f7mXAP3W2LTu",
        "outputId": "4b53ea1d-8b0e-4257-f53e-377c0ffa0964"
      },
      "execution_count": null,
      "outputs": [
        {
          "output_type": "stream",
          "name": "stdout",
          "text": [
            "=== Few-shot Prompt ===\n",
            "\n",
            "You are a robotic task planner.\n",
            "\n",
            "Your task is to generate a plan to complete the given instruction using only the specified action templates and objects.\n",
            "\n",
            "Task: Boil the tomato in a pot and place the pot on the countertop.\n",
            "\n",
            "Objects:\n",
            "- tomato\n",
            "- pot\n",
            "- sink\n",
            "- faucet\n",
            "- stoveburner\n",
            "- countertop\n",
            "\n",
            "Available action templates (use only these forms):\n",
            "- \"close\" <object>\n",
            "- \"open\" <object>\n",
            "- \"pick up\" <object>\n",
            "- \"place\" <object> \"in\" <object>\n",
            "- \"place\" <object> \"on\" <object>\n",
            "- \"slice\" <object>\n",
            "- \"turn off\" <object>\n",
            "- \"turn on\" <object>\n",
            "\n",
            "Instructions:\n",
            "- Each action must strictly match one of the templates above.\n",
            "- Use only the provided objects.\n",
            "- Return the result as a JSON object where keys are step numbers as strings (e.g., \"1\", \"2\", ...) and values are action strings.\n",
            "- Do not include any explanations or reasoning — return only the JSON plan.\n",
            "\n",
            "Example:\n",
            "{\n",
            "  \"1\": \"pick up tomato\",\n",
            "  \"2\": \"place tomato in pot\",\n",
            "  \"3\": \"pick up pot\",\n",
            "  \"4\": \"place pot in sink\",\n",
            "  \"5\": \"turn on faucet\",\n",
            "  \"6\": \"turn off faucet\",\n",
            "  \"7\": \"pick up pot\",\n",
            "  \"8\": \"place pot on stoveburner\",\n",
            "  \"9\": \"turn on stoveburner\",\n",
            "  \"10\": \"pick up pot\",\n",
            "  \"11\": \"place pot on countertop\"\n",
            "}\n",
            "\n",
            "Task: Slice bread, store the knife in the drawer, heat the bread and serve it on the plate on the countertop.\n",
            "\n",
            "Objects:\n",
            "- knife\n",
            "- bread\n",
            "- drawer\n",
            "- toaster\n",
            "- plate\n",
            "- countertop\n",
            "\n",
            "Init States:\n",
            "- plate is on countertop\n",
            "- toaster is off\n",
            "- bread is unsliced\n",
            "- knife is on countertop\n",
            "\n",
            "Plan:\n",
            "\n"
          ]
        }
      ]
    },
    {
      "cell_type": "markdown",
      "source": [
        "###   2.2 JSON Plan Acquisition via LLM\n",
        "Copy/paste the JSON task plan, generated by your LLM, into the TODO section below. So, we extract a sequence of actions.  "
      ],
      "metadata": {
        "id": "GCHLkO3GG3Lq"
      }
    },
    {
      "cell_type": "code",
      "source": [
        "# Create Thor instance\n",
        "thor = Thor(task_context, scenario_idx=-1, records_dir=\"test/FewShot/\")\n",
        "\n",
        "########################## TODO ##########################\n",
        "# JSON plan obtained from the LLM\n",
        "few_shot_answer = \"\"\"\n",
        "{\n",
        "  \"1\": \"pick up knife\",\n",
        "  \"2\": \"slice bread\",\n",
        "  \"3\": \"open drawer\",\n",
        "  \"4\": \"place knife in drawer\",\n",
        "  \"5\": \"close drawer\",\n",
        "  \"6\": \"pick up bread\",\n",
        "  \"7\": \"place bread on toaster\",\n",
        "  \"8\": \"turn on toaster\",\n",
        "  \"9\": \"turn off toaster\",\n",
        "  \"10\": \"pick up bread\",\n",
        "  \"11\": \"place bread on plate\"\n",
        "}\n",
        "\"\"\"\n",
        "##########################################################\n",
        "\n",
        "# Convert JSON string to a Python dict\n",
        "plan_dict = json.loads(few_shot_answer)\n",
        "\n",
        "# Iterate through the dict in step order and create action objects\n",
        "actions = []\n",
        "for step, action_string in sorted(plan_dict.items(), key=lambda x: int(x[0])):\n",
        "    for action_class in thor.action_space:\n",
        "        action_args = action_class.parse(action_string)\n",
        "        if action_args is not None:\n",
        "            actions.append(action_class(thor, action_args))\n",
        "            break\n"
      ],
      "metadata": {
        "id": "eSwZ4CWtt6-x"
      },
      "execution_count": null,
      "outputs": []
    },
    {
      "cell_type": "markdown",
      "source": [
        "### 2.3 Execution within the AI2-THOR Environment"
      ],
      "metadata": {
        "id": "sTOF1NRFG9rO"
      }
    },
    {
      "cell_type": "markdown",
      "source": [
        "Simulate the plan and verify why the generated plan"
      ],
      "metadata": {
        "id": "sfwMgr1zy4rW"
      }
    },
    {
      "cell_type": "code",
      "source": [
        "print(\"\\n==========================================\")\n",
        "print(\"Action Execution\")\n",
        "print(\"==========================================\")\n",
        "\n",
        "# Execute actions sequentially\n",
        "for idx, action in enumerate(actions, start=1):\n",
        "    print(f\"{idx}. Executing: {action}\")\n",
        "    action.execute()\n",
        "    thor.log(success=True, message=f\"after {action}\")\n",
        "    time.sleep(1)"
      ],
      "metadata": {
        "colab": {
          "base_uri": "https://localhost:8080/"
        },
        "id": "kjK5fy79HBlb",
        "outputId": "55471cf5-9f76-497b-c078-55f76ca4a094"
      },
      "execution_count": null,
      "outputs": [
        {
          "output_type": "stream",
          "name": "stdout",
          "text": [
            "\n",
            "==========================================\n",
            "Action Execution\n",
            "==========================================\n",
            "1. Executing: <actions.pickup_action.PickUp object at 0x78aa6a8b6b90>\n",
            "Frame 000 | [INFO] pick up knife\n",
            "Frame 001 | [INFO] pick up knife succeeded\n",
            "Frame 002 | [INFO] after <actions.pickup_action.PickUp object at 0x78aa6a8b6b90>\n",
            "2. Executing: <actions.slice_object.Slice object at 0x78aa6a8b7a10>\n",
            "Frame 002 | [INFO] slice bread\n",
            "Frame 003 | [INFO] slice bread succeeded\n",
            "Frame 004 | [INFO] after <actions.slice_object.Slice object at 0x78aa6a8b7a10>\n",
            "3. Executing: <actions.open_action.Open object at 0x78aa6a8b6d90>\n",
            "Frame 004 | [INFO] open drawer\n",
            "Frame 005 | [INFO] open drawer succeeded\n",
            "Frame 006 | [INFO] after <actions.open_action.Open object at 0x78aa6a8b6d90>\n",
            "4. Executing: <actions.placein_action.PlaceIn object at 0x78aa6a8b7490>\n",
            "Frame 006 | [INFO] place knife in drawer\n",
            "Frame 007 | [INFO] place knife in drawer succeeded\n",
            "Frame 008 | [INFO] after <actions.placein_action.PlaceIn object at 0x78aa6a8b7490>\n",
            "5. Executing: <actions.close_action.Close object at 0x78aa6a8b7e90>\n",
            "Frame 008 | [INFO] close drawer\n",
            "Frame 009 | [INFO] close drawer succeeded\n",
            "Frame 010 | [INFO] after <actions.close_action.Close object at 0x78aa6a8b7e90>\n",
            "6. Executing: <actions.pickup_action.PickUp object at 0x78aa6a8b7750>\n",
            "Frame 010 | [INFO] pick up bread\n",
            "Frame 011 | [INFO] pick up bread succeeded\n",
            "Frame 012 | [INFO] after <actions.pickup_action.PickUp object at 0x78aa6a8b7750>\n",
            "7. Executing: <actions.placeon_action.PlaceOn object at 0x78aa6a8b7850>\n",
            "Frame 012 | [INFO] place bread on toaster\n",
            "Frame 013 | [INFO] place bread on toaster succeeded\n",
            "Frame 014 | [INFO] after <actions.placeon_action.PlaceOn object at 0x78aa6a8b7850>\n",
            "8. Executing: <actions.turnon.TurnOn object at 0x78aa6a8b7910>\n",
            "Frame 014 | [INFO] turn on toaster\n",
            "Frame 015 | [INFO] turn on toaster succeeded\n",
            "Frame 016 | [INFO] after <actions.turnon.TurnOn object at 0x78aa6a8b7910>\n",
            "9. Executing: <actions.turnoff.TurnOff object at 0x78aa6a8b7650>\n",
            "Frame 016 | [INFO] turn off toaster\n",
            "Frame 017 | [INFO] turn off toaster succeeded\n",
            "Frame 018 | [INFO] after <actions.turnoff.TurnOff object at 0x78aa6a8b7650>\n",
            "10. Executing: <actions.pickup_action.PickUp object at 0x78aa6a8b7bd0>\n",
            "Frame 018 | [INFO] pick up bread\n",
            "Frame 019 | [INFO] pick up bread succeeded\n",
            "Frame 020 | [INFO] after <actions.pickup_action.PickUp object at 0x78aa6a8b7bd0>\n",
            "11. Executing: <actions.placeon_action.PlaceOn object at 0x78aa6a8b7b10>\n",
            "Frame 020 | [INFO] place bread on plate\n",
            "Frame 021 | [INFO] place bread on plate succeeded\n",
            "Frame 022 | [INFO] after <actions.placeon_action.PlaceOn object at 0x78aa6a8b7b10>\n"
          ]
        }
      ]
    },
    {
      "cell_type": "code",
      "source": [
        "import imageio, glob, os, numpy as np, PIL\n",
        "\n",
        "# Convert saved PNG frames into an MP4 video\n",
        "def make_video_from_frames(records_dir, output_fname=\"plan_execution.mp4\", fps=4):\n",
        "    img_dir = os.path.join(records_dir, \"ego_img\")\n",
        "    pngs = sorted(glob.glob(f\"{img_dir}/step_*.png\"),\n",
        "                  key=lambda p: int(os.path.splitext(os.path.basename(p))[0].split(\"_\")[-1]))\n",
        "    if not pngs:\n",
        "        print(\"No frames to make video.\")\n",
        "        return\n",
        "    out_path = os.path.join(records_dir, output_fname)\n",
        "    with imageio.get_writer(out_path, fps=fps) as writer:\n",
        "        for p in pngs:\n",
        "            img = PIL.Image.open(p).convert(\"RGB\")\n",
        "            writer.append_data(np.array(img))\n",
        "    print(f\"Saved video: {out_path}\")\n",
        "\n",
        "# Build the video\n",
        "if __name__ == \"__main__\":\n",
        "    make_video_from_frames(\n",
        "            records_dir=thor.records_dir,\n",
        "            output_fname=\"FewShot.mp4\",\n",
        "            fps=4\n",
        "        )\n",
        "\n",
        "# Play the execution video for the FewShot plan\n",
        "from IPython.display import Video\n",
        "Video(\"test/FewShot/FewShot.mp4\", embed=True, width=400)"
      ],
      "metadata": {
        "colab": {
          "base_uri": "https://localhost:8080/",
          "height": 477
        },
        "id": "5otzxsM9uEj2",
        "outputId": "27b7a80c-d336-440d-a385-73ded1dc2ae9"
      },
      "execution_count": null,
      "outputs": [
        {
          "output_type": "stream",
          "name": "stderr",
          "text": [
            "WARNING:imageio_ffmpeg:IMAGEIO FFMPEG_WRITER WARNING: input image is not divisible by macro_block_size=16, resizing from (500, 500) to (512, 512) to ensure video compatibility with most codecs and players. To prevent resizing, make your input image divisible by the macro_block_size or set the macro_block_size to 1 (risking incompatibility).\n"
          ]
        },
        {
          "output_type": "stream",
          "name": "stdout",
          "text": [
            "Saved video: test/FewShot/FewShot.mp4\n"
          ]
        },
        {
          "output_type": "execute_result",
          "data": {
            "text/plain": [
              "<IPython.core.display.Video object>"
            ],
            "text/html": [
              "<video controls  width=\"400\" >\n",
              " <source src=\"data:video/mp4;base64,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\" type=\"video/mp4\">\n",
              " Your browser does not support the video tag.\n",
              " </video>"
            ]
          },
          "metadata": {},
          "execution_count": 15
        }
      ]
    },
    {
      "cell_type": "markdown",
      "source": [
        "## 3. Multi-Modal Task Planner\n",
        "- Use the image at `content/init_scene.png` to let the LLM infer all relevant objects and their current states.  \n",
        "- Based on those inferred objects and states, craft a zero-shot prompt (no examples) that generates a JSON task plan for the **toastBread** task, adhering to the two common prompt requirements at the top of this notebook.\n"
      ],
      "metadata": {
        "id": "6ohw0BcgHHyO"
      }
    },
    {
      "cell_type": "markdown",
      "source": [
        "###  3.1 Multi-Modal Prompt Formulation\n",
        "Compose a prompt and copy/paste it into ChatGPT-4o (or another LLM) to generate the JSON plan."
      ],
      "metadata": {
        "id": "RpYPA6vkHURr"
      }
    },
    {
      "cell_type": "code",
      "source": [
        "########################## TODO ##########################\n",
        "# Generate Multi-Modal Prompt\n",
        "\n",
        "prompt = \"\"\"You see the following image of a kitchen scene.\n",
        "\n",
        "Task: Slice bread, store the knife in the drawer, heat the bread and serve it on the plate on the countertop.\n",
        "\n",
        "Identify all relevant objects and their states.\n",
        "\n",
        "Then generate a numbered plan to perform the toastBread task using only these actions:\n",
        "Available action templates (use only these forms):\n",
        "- \"close\" <object>\n",
        "- \"open\" <object>\n",
        "- \"pick up\" <object>\n",
        "- \"place\" <object> \"in\" <object>\n",
        "- \"place\" <object> \"on\" <object>\n",
        "- \"slice\" <object>\n",
        "- \"turn off\" <object>\n",
        "- \"turn on\" <object>\n",
        "\n",
        "\n",
        "Instructions:\n",
        "- Each action must strictly match one of the templates above.\n",
        "- Use only the provided objects.\n",
        "- Return the result as a JSON object where keys are step numbers as strings (e.g., \"1\", \"2\", ...) and values are action strings.\n",
        "- Do not include any explanations or reasoning — return only the JSON plan.\n",
        "\n",
        "Plan:\"\"\"\n",
        "##########################################################\n",
        "\n",
        "print(\"=== MultiModal Prompt ===\\n\")\n",
        "print(prompt)"
      ],
      "metadata": {
        "colab": {
          "base_uri": "https://localhost:8080/"
        },
        "id": "OfovLIex2bb3",
        "outputId": "3fb5c5c4-55f4-412c-bdbc-3de6df529907"
      },
      "execution_count": null,
      "outputs": [
        {
          "output_type": "stream",
          "name": "stdout",
          "text": [
            "=== MultiModal Prompt ===\n",
            "\n",
            "You see the following image of a kitchen scene.\n",
            "\n",
            "Task: Slice bread, store the knife in the drawer, heat the bread and serve it on the plate on the countertop.\n",
            "\n",
            "Identify all relevant objects and their states).\n",
            "\n",
            "Then generate a numbered plan to perform the toastBread task using only these actions:\n",
            "Available action templates (use only these forms):\n",
            "- \"close\" <object>\n",
            "- \"open\" <object>\n",
            "- \"pick up\" <object>\n",
            "- \"place\" <object> \"in\" <object>\n",
            "- \"place\" <object> \"on\" <object>\n",
            "- \"slice\" <object>\n",
            "- \"turn off\" <object>\n",
            "- \"turn on\" <object>\n",
            "\n",
            "\n",
            "Instructions:\n",
            "- Each action must strictly match one of the templates above.\n",
            "- Use only the provided objects.\n",
            "- Return the result as a JSON object where keys are step numbers as strings (e.g., \"1\", \"2\", ...) and values are action strings.\n",
            "- Do not include any explanations or reasoning — return only the JSON plan.\n",
            "\n",
            "Plan:\n"
          ]
        }
      ]
    },
    {
      "cell_type": "markdown",
      "source": [
        "###   3.2 JSON Plan Acquisition via LLM\n",
        "Copy/paste the JSON task plan, generated by your LLM, into the TODO section below. So, we extract a sequence of actions.  "
      ],
      "metadata": {
        "id": "Kc6dm1oPH06I"
      }
    },
    {
      "cell_type": "code",
      "source": [
        "import json\n",
        "import time\n",
        "\n",
        "# Create Thor instance\n",
        "thor = Thor(task_context, scenario_idx=-1, records_dir=\"test/MultiModal/\")\n",
        "\n",
        "########################## TODO ##########################\n",
        "# JSON plan obtained from the LLM\n",
        "multi_modal_answer = \"\"\"\n",
        "{\n",
        "  \"1\": \"pick up knife\",\n",
        "  \"2\": \"slice bread\",\n",
        "  \"3\": \"place knife in drawer\",\n",
        "  \"4\": \"open toaster\",\n",
        "  \"5\": \"pick up bread\",\n",
        "  \"6\": \"place bread in toaster\",\n",
        "  \"7\": \"turn on toaster\",\n",
        "  \"8\": \"turn off toaster\",\n",
        "  \"9\": \"pick up bread\",\n",
        "  \"10\": \"place bread on plate\"\n",
        "}\n",
        "\"\"\"\n",
        "##########################################################\n",
        "\n",
        "# Convert JSON string to a Python dict\n",
        "plan_dict = json.loads(multi_modal_answer)\n",
        "\n",
        "# Iterate through the dict in step order and create action objects\n",
        "actions = []\n",
        "for step, action_string in sorted(plan_dict.items(), key=lambda x: int(x[0])):\n",
        "    for action_class in thor.action_space:\n",
        "        action_args = action_class.parse(action_string)\n",
        "        if action_args is not None:\n",
        "            actions.append(action_class(thor, action_args))\n",
        "            break\n"
      ],
      "metadata": {
        "id": "UZKmwVRvvI8_"
      },
      "execution_count": null,
      "outputs": []
    },
    {
      "cell_type": "markdown",
      "source": [
        "### 3.3 Execution within the AI2-THOR Environment"
      ],
      "metadata": {
        "id": "-WXxo51UH4g7"
      }
    },
    {
      "cell_type": "markdown",
      "source": [
        "Simulate the plan and verify why the generated plan"
      ],
      "metadata": {
        "id": "mqyGhAng0nIy"
      }
    },
    {
      "cell_type": "code",
      "source": [
        "print(\"\\n==========================================\")\n",
        "print(\"Action Execution\")\n",
        "print(\"==========================================\")\n",
        "\n",
        "# Execute actions sequentially\n",
        "for idx, action in enumerate(actions, start=1):\n",
        "    print(f\"{idx}. Executing: {action}\")\n",
        "    action.execute()\n",
        "    thor.log(success=True, message=f\"after {action}\")\n",
        "    time.sleep(1)"
      ],
      "metadata": {
        "colab": {
          "base_uri": "https://localhost:8080/"
        },
        "id": "121CIKQqH7g0",
        "outputId": "4c5a43cf-843b-4572-b532-82ee4b39efb8"
      },
      "execution_count": null,
      "outputs": [
        {
          "output_type": "stream",
          "name": "stdout",
          "text": [
            "\n",
            "==========================================\n",
            "Action Execution\n",
            "==========================================\n",
            "1. Executing: <actions.pickup_action.PickUp object at 0x78aa6a7bf390>\n",
            "Frame 000 | [INFO] pick up knife\n",
            "Frame 001 | [INFO] pick up knife succeeded\n",
            "Frame 002 | [INFO] after <actions.pickup_action.PickUp object at 0x78aa6a7bf390>\n",
            "2. Executing: <actions.slice_object.Slice object at 0x78aa6a7bf790>\n",
            "Frame 002 | [INFO] slice bread\n",
            "Frame 003 | [INFO] slice bread succeeded\n",
            "Frame 004 | [INFO] after <actions.slice_object.Slice object at 0x78aa6a7bf790>\n",
            "3. Executing: <actions.placein_action.PlaceIn object at 0x78aa6a7bfc50>\n",
            "Frame 004 | [INFO] place knife in drawer\n",
            "Frame 005 | [ERROR] place knife in drawer failed: Precondition Violation for place knife in drawer: Drawer is not open\n",
            "Frame 006 | [INFO] after <actions.placein_action.PlaceIn object at 0x78aa6a7bfc50>\n",
            "4. Executing: <actions.open_action.Open object at 0x78aa6a7bedd0>\n",
            "Frame 006 | [INFO] open toaster\n",
            "Frame 007 | [ERROR] open toaster failed: Precondition Violation for open toaster: open toaster failed: Toaster is not an openable object\n",
            "Frame 008 | [INFO] after <actions.open_action.Open object at 0x78aa6a7bedd0>\n",
            "5. Executing: <actions.pickup_action.PickUp object at 0x78aa6a7bfcd0>\n",
            "Frame 008 | [INFO] pick up bread\n",
            "Frame 009 | [ERROR] pick up bread failed: Precondition Violation for pick up bread: pick up bread failed: Robot is already holding an object, cannot pick up BreadSliced\n",
            "Frame 010 | [INFO] after <actions.pickup_action.PickUp object at 0x78aa6a7bfcd0>\n",
            "6. Executing: <actions.placein_action.PlaceIn object at 0x78aa6a7beb90>\n",
            "Frame 010 | [INFO] place bread in toaster\n",
            "Frame 011 | [ERROR] place bread in toaster failed: Precondition Violation for place bread in toaster: place bread in toaster failed: Robot is holding knife, not bread\n",
            "Frame 012 | [INFO] after <actions.placein_action.PlaceIn object at 0x78aa6a7beb90>\n",
            "7. Executing: <actions.turnon.TurnOn object at 0x78aa6a7bf510>\n",
            "Frame 012 | [INFO] turn on toaster\n",
            "Frame 013 | [INFO] turn on toaster succeeded\n",
            "Frame 014 | [INFO] after <actions.turnon.TurnOn object at 0x78aa6a7bf510>\n",
            "8. Executing: <actions.turnoff.TurnOff object at 0x78aa6a7bf0d0>\n",
            "Frame 014 | [INFO] turn off toaster\n",
            "Frame 015 | [INFO] turn off toaster succeeded\n",
            "Frame 016 | [INFO] after <actions.turnoff.TurnOff object at 0x78aa6a7bf0d0>\n",
            "9. Executing: <actions.pickup_action.PickUp object at 0x78aa6a7bf450>\n",
            "Frame 016 | [INFO] pick up bread\n",
            "Frame 017 | [ERROR] pick up bread failed: Precondition Violation for pick up bread: pick up bread failed: Robot is already holding an object, cannot pick up BreadSliced\n",
            "Frame 018 | [INFO] after <actions.pickup_action.PickUp object at 0x78aa6a7bf450>\n",
            "10. Executing: <actions.placeon_action.PlaceOn object at 0x78aa6a7be8d0>\n",
            "Frame 018 | [INFO] place bread on plate\n",
            "Frame 019 | [ERROR] place bread on plate failed: Precondition Violation for place bread on plate: place bread on plate failed: Robot is holding knife, not bread\n",
            "Frame 020 | [INFO] after <actions.placeon_action.PlaceOn object at 0x78aa6a7be8d0>\n"
          ]
        }
      ]
    },
    {
      "cell_type": "code",
      "source": [
        "import imageio, glob, os, numpy as np, PIL\n",
        "\n",
        "# Convert saved PNG frames into an MP4 video\n",
        "def make_video_from_frames(records_dir, output_fname=\"plan_execution.mp4\", fps=4):\n",
        "    img_dir = os.path.join(records_dir, \"ego_img\")\n",
        "    pngs = sorted(glob.glob(f\"{img_dir}/step_*.png\"),\n",
        "                  key=lambda p: int(os.path.splitext(os.path.basename(p))[0].split(\"_\")[-1]))\n",
        "    if not pngs:\n",
        "        print(\"No frames to make video.\")\n",
        "        return\n",
        "    out_path = os.path.join(records_dir, output_fname)\n",
        "    with imageio.get_writer(out_path, fps=fps) as writer:\n",
        "        for p in pngs:\n",
        "            img = PIL.Image.open(p).convert(\"RGB\")\n",
        "            writer.append_data(np.array(img))\n",
        "    print(f\"Saved video: {out_path}\")\n",
        "\n",
        "# Build the video\n",
        "if __name__ == \"__main__\":\n",
        "    make_video_from_frames(\n",
        "            records_dir=thor.records_dir,\n",
        "            output_fname=\"MultiModal.mp4\",\n",
        "            fps=4\n",
        "        )\n",
        "\n",
        "# Play the execution video for the MultiModal plan\n",
        "from IPython.display import Video\n",
        "Video(\"test/MultiModal/MultiModal.mp4\", embed=True, width=400)"
      ],
      "metadata": {
        "colab": {
          "base_uri": "https://localhost:8080/",
          "height": 477
        },
        "id": "p4z7R2UuH9f3",
        "outputId": "3e3e7644-19e4-458d-a540-498420a1f52e"
      },
      "execution_count": null,
      "outputs": [
        {
          "output_type": "stream",
          "name": "stderr",
          "text": [
            "WARNING:imageio_ffmpeg:IMAGEIO FFMPEG_WRITER WARNING: input image is not divisible by macro_block_size=16, resizing from (500, 500) to (512, 512) to ensure video compatibility with most codecs and players. To prevent resizing, make your input image divisible by the macro_block_size or set the macro_block_size to 1 (risking incompatibility).\n"
          ]
        },
        {
          "output_type": "stream",
          "name": "stdout",
          "text": [
            "Saved video: test/MultiModal/MultiModal.mp4\n"
          ]
        },
        {
          "output_type": "execute_result",
          "data": {
            "text/plain": [
              "<IPython.core.display.Video object>"
            ],
            "text/html": [
              "<video controls  width=\"400\" >\n",
              " <source src=\"data:video/mp4;base64,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\" type=\"video/mp4\">\n",
              " Your browser does not support the video tag.\n",
              " </video>"
            ]
          },
          "metadata": {},
          "execution_count": 19
        }
      ]
    },
    {
      "cell_type": "markdown",
      "source": [
        "## 4: Autoregressive Task Planning & Consistent State Estimation\n",
        "\n"
      ],
      "metadata": {
        "id": "yzLAqPNwJNZT"
      }
    },
    {
      "cell_type": "markdown",
      "source": [
        "### 📌 Why it matters\n",
        "\n",
        "A robot can’t just follow a to-do list.  \n",
        "It must account for how the world changes after each action to ensure that subsequent actions remain valid.\n",
        "\n",
        "- After slicing the bread, the state **“bread is sliced”** must remain.  \n",
        "  If the robot forgets this, it might slice the bread again or take the wrong step.\n",
        "- In long plans, missing even one state update can **invalidate the entire plan**.\n",
        "\n",
        "This assignment teaches you to:\n",
        "1. **Update the state after every step**,  \n",
        "2. Ensure the **next action’s preconditions are satisfied**, and  \n",
        "3. Confirm at the end that the **goal condition is met**.\n",
        "\n",
        "→ These skills keep long-horizon plans from falling apart.\n",
        "\n"
      ],
      "metadata": {
        "id": "y_syUAZMssvT"
      }
    },
    {
      "cell_type": "markdown",
      "source": [
        "Use the image at `content/init_scene.png` to complete the following tasks:\n",
        "\n",
        "---\n",
        "\n",
        "#### ✅ Step 1: Scene Understanding\n",
        "\n",
        "Use the image to identify and list:\n",
        "- All **relevant objects** in the scene\n",
        "- The **initial state** of each object  \n",
        "  _e.g._ `\"knife is on counter\"`, `\"drawer is closed\"`\n",
        "\n",
        "You will use these for the `objects` and `init_state` fields in the plan.\n",
        "\n",
        "---\n",
        "\n",
        "#### ✅ Step 2: Zero-shot Prompting for Task Planning\n",
        "\n",
        "Craft a **zero-shot prompt** (no examples) that instructs the LLM to generate a complete JSON plan for the `toastBread` task.\n",
        "\n",
        "---\n",
        "\n",
        "### 📌 Output Format (must follow exactly):\n",
        "\n",
        "```json\n",
        "{\n",
        "  \"task\": \"<task_name>\",\n",
        "  \"objects\": [\"<object_1>\", \"<object_2>\", ...],\n",
        "  \"goal_condition\": [\"<goal_condition_1>\", ...],\n",
        "  \"init_state\": [\"<initial_state_1>\", ...],\n",
        "  \"steps\": [\n",
        "    {\n",
        "      \"action\": \"<action>\",\n",
        "      \"precondition\": [\"<precondition_1>\", ...],\n",
        "      \"effect\": [\"<effect_1>\", ...],\n",
        "      \"state\": [\"<state_1>\", ...]\n",
        "    },\n",
        "    ...\n",
        "  ]\n",
        "}\n",
        "```"
      ],
      "metadata": {
        "id": "2qmtlH6TMeey"
      }
    },
    {
      "cell_type": "markdown",
      "source": [
        "### ⚙️ Permitted Action Templates\n",
        "\n",
        "The `action` field in each step **must strictly match** one of the following formats:\n",
        "\n",
        "- `\"pick up\" <object>`\n",
        "- `\"place\" <object> \"in\" <object>`\n",
        "- `\"place\" <object> \"on\" <object>`\n",
        "- `\"open\" <object>`\n",
        "- `\"close\" <object>`\n",
        "- `\"turn on\" <object>`\n",
        "- `\"turn off\" <object>`\n",
        "- `\"slice\" <object>`\n",
        "\n",
        "🚫 **Do not create new action types or modify the format.**\n",
        "\n",
        "---\n",
        "\n",
        "### 🎯 Important Requirements\n",
        "\n",
        "1. The `steps` must be generated **autoregressively**, meaning:\n",
        "   - Each step’s `state` must result from applying the `effect` to the previous step’s `state`.\n",
        "   - The next step’s `precondition` must be satisfied by the current `state`.\n",
        "\n",
        "2. You must **track all necessary state changes throughout the entire plan**.\n",
        "   - For example, if `\"bread is sliced\"` appears after slicing, it must **persist** in future states unless changed.\n",
        "   - Do **not** drop or forget valid state facts.\n",
        "\n",
        "3. The **final `state`** in the last step must fully satisfy the `goal_condition`.\n",
        "   - This enables automatic validation of task success.\n",
        "\n",
        "4. The prompt must be written **cleanly and unambiguously** to support **true zero-shot generation**.\n"
      ],
      "metadata": {
        "id": "ENeZ00DMIsuq"
      }
    },
    {
      "cell_type": "code",
      "source": [
        "########################## TODO ##########################\n",
        "# Generate Multi-Modal Task-Relevant State Estimation Prompt\n",
        "\n",
        "prompt = \"\"\"\n",
        "You are a helpful task‑planning module for a robotic arm\n",
        "\n",
        "Generate a logically valid <plan> to accomplish the <task>, utilizing identifiers defined with EBNF.\n",
        "\n",
        "<object> = \"A phrase that describes a physically distinct entity including robotic arm.\"\n",
        "<relationship> = \"A phrase that describes action-based or spatial connections between two <object>s.\"\n",
        "<attribute> = \"A phrase that describes dynamic properties of an <object> itself that can be changed through <action>s.\"\n",
        "<state> = <object> \"is\" (<attribute> | <relationship> <object>)\n",
        "<goal_condition> = <object> \"must be\" (<attribute> | <relationship> <object>)\n",
        "<precondition> = <object> \"must be\" (<attribute> | <relationship> <object>)\n",
        "<effect> = <object> \"will\" [\"no longer\"] \"be\" (<attribute> | <relationship> <object>)\n",
        "\n",
        "Follow these steps:\n",
        "1. Identify every visible <object> in the <scene>.\n",
        "2. Define <goal_condition> for the <task> using the identified <object>s.\n",
        "3. Describe <init_state> of the <scene> using the identified <object>s.\n",
        "4. Iterate over <action>s step‑by‑step according to the following logic:\n",
        "  1) Select an applicable <action> whose <precondition> holds true in the previous <state> and that is most likely to update the <state> to be closer to a state satisfying the <goal_condition>.\n",
        "  2) Describe the <precondition> and <effect> of the selected <action> with identified <object>s.\n",
        "  3) Update the <state> based on the <effect> by adding and removing elements describing <attribute> or <relationship>.\n",
        "  4) Terminate the iteration if <state> satisfies the <goal_condition>.\n",
        "5. Format your <plan> in JSON as follows:\n",
        "{\"task\": <task>, \"objects\": [{<object>}], \"goal_condition\": [<goal_condition>], \"init_state\": [<init_state>], \"steps\": [{\"action\": <action>, \"precondition\": [<precondition>], \"effect\": [<effect>], \"state\": [<state>]}]}\n",
        "\n",
        "<inits_state> = \"robotic arm is holding nothing,\" <state>\n",
        "<task> = \"slice bread, store the knife in the drawer, heat the bread and serve it on the plate.\"\n",
        "<action> = '\"pick up\" <object>'|\n",
        "    '\"place\" <object> \"in\" <object>'|\n",
        "    '\"place\" <object> \"on\" <object>'|\n",
        "    '\"open\" <object>'|\n",
        "    '\"close\" <object>'|\n",
        "    '\"turn on\" <object>'|\n",
        "    '\"turn off\" <object>'|\n",
        "    '\"slice\" <object>'\n",
        "<scene> =\n",
        "\n",
        "Return only the final <plan> output, no explanation.\n",
        "\n",
        "\"\"\"\n",
        "##########################################################\n",
        "\n",
        "print(\"=== EBNF Prompt ===\\n\")\n",
        "print(prompt)"
      ],
      "metadata": {
        "id": "a75dGvcGJTUM",
        "colab": {
          "base_uri": "https://localhost:8080/"
        },
        "outputId": "d90e78e0-6c2f-4e27-b6c3-dead1d14f3a1"
      },
      "execution_count": null,
      "outputs": [
        {
          "output_type": "stream",
          "name": "stdout",
          "text": [
            "=== EBNF Prompt ===\n",
            "\n",
            "\n",
            "You are a helpful task‑planning module for a robotic arm\n",
            "\n",
            "Generate a logically valid <plan> to accomplish the <task>, utilizing identifiers defined with EBNF.\n",
            "\n",
            "<object> = \"A phrase that describes a physically distinct entity including robotic arm.\"\n",
            "<relationship> = \"A phrase that describes action-based or spatial connections between two <object>s.\"\n",
            "<attribute> = \"A phrase that describes dynamic properties of an <object> itself that can be changed through <action>s.\"\n",
            "<state> = <object> \"is\" (<attribute> | <relationship> <object>)\n",
            "<goal_condition> = <object> \"must be\" (<attribute> | <relationship> <object>)\n",
            "<precondition> = <object> \"must be\" (<attribute> | <relationship> <object>)\n",
            "<effect> = <object> \"will\" [\"no longer\"] \"be\" (<attribute> | <relationship> <object>)\n",
            "\n",
            "Follow these steps:\n",
            "1. Identify every visible <object> in the <scene>.\n",
            "2. Define <goal_condition> for the <task> using the identified <object>s.\n",
            "3. Describe <init_state> of the <scene> using the identified <object>s.\n",
            "4. Iterate over <action>s step‑by‑step according to the following logic:\n",
            "  1) Select an applicable <action> whose <precondition> holds true in the previous <state> and that is most likely to update the <state> to be closer to a state satisfying the <goal_condition>.\n",
            "  2) Describe the <precondition> and <effect> of the selected <action> with identified <object>s.\n",
            "  3) Update the <state> based on the <effect> by adding and removing elements describing <attribute> or <relationship>.\n",
            "  4) Terminate the iteration if <state> satisfies the <goal_condition>.\n",
            "5. Format your <plan> in JSON as follows:\n",
            "{\"task\": <task>, \"objects\": [{<object>}], \"goal_condition\": [<goal_condition>], \"init_state\": [<init_state>], \"steps\": [{\"action\": <action>, \"precondition\": [<precondition>], \"effect\": [<effect>], \"state\": [<state>]}]}\n",
            "\n",
            "<inits_state> = \"robotic arm is holding nothing,\" <state>\n",
            "<task> = \"slice bread, store the knife in the drawer, heat the bread and serve it on the plate.\"\n",
            "<action> = '\"pick up\" <object>'|\n",
            "    '\"place\" <object> \"in\" <object>'|\n",
            "    '\"place\" <object> \"on\" <object>'|\n",
            "    '\"open\" <object>'|\n",
            "    '\"close\" <object>'|\n",
            "    '\"turn on\" <object>'|\n",
            "    '\"turn off\" <object>'|\n",
            "    '\"slice\" <object>'\n",
            "<scene> =\n",
            "\n",
            "Return only the final <plan> output, no explanation.\n",
            "\n",
            "\n"
          ]
        }
      ]
    },
    {
      "cell_type": "code",
      "source": [
        "########################## TODO ##########################\n",
        "task_relevant_state_estimation_answer = \"\"\"\n",
        "{\n",
        "  \"task\": \"slice bread, store the knife in the drawer, heat the bread and serve it on the plate.\",\n",
        "  \"objects\": [\n",
        "    \"robotic arm\",\n",
        "    \"bread\",\n",
        "    \"knife\",\n",
        "    \"toaster\",\n",
        "    \"plate\",\n",
        "    \"drawer\"\n",
        "  ],\n",
        "  \"goal_condition\": [\n",
        "    \"bread must be sliced\",\n",
        "    \"bread must be heated\",\n",
        "    \"bread must be on plate\",\n",
        "    \"knife must be in drawer\"\n",
        "  ],\n",
        "  \"init_state\": [\n",
        "    \"robotic arm is holding nothing\",\n",
        "    \"bread is on counter\",\n",
        "    \"knife is on counter\",\n",
        "    \"toaster is on counter\",\n",
        "    \"plate is on counter\",\n",
        "    \"drawer is closed\"\n",
        "  ],\n",
        "  \"steps\": [\n",
        "    {\n",
        "      \"action\": \"pick up knife\",\n",
        "      \"precondition\": [\"knife must be on counter\", \"robotic arm must be holding nothing\"],\n",
        "      \"effect\": [\"knife will be held by robotic arm\", \"knife will no longer be on counter\", \"robotic arm will no longer be holding nothing\"],\n",
        "      \"state\": [\n",
        "        \"knife is held by robotic arm\",\n",
        "        \"bread is on counter\",\n",
        "        \"toaster is on counter\",\n",
        "        \"plate is on counter\",\n",
        "        \"drawer is closed\"\n",
        "      ]\n",
        "    },\n",
        "    {\n",
        "      \"action\": \"slice bread\",\n",
        "      \"precondition\": [\"bread must be on counter\", \"knife must be held by robotic arm\"],\n",
        "      \"effect\": [\"bread will be sliced\"],\n",
        "      \"state\": [\n",
        "        \"knife is held by robotic arm\",\n",
        "        \"bread is sliced\",\n",
        "        \"toaster is on counter\",\n",
        "        \"plate is on counter\",\n",
        "        \"drawer is closed\"\n",
        "      ]\n",
        "    },\n",
        "    {\n",
        "      \"action\": \"open drawer\",\n",
        "      \"precondition\": [\"drawer must be closed\"],\n",
        "      \"effect\": [\"drawer will be open\", \"drawer will no longer be closed\"],\n",
        "      \"state\": [\n",
        "        \"knife is held by robotic arm\",\n",
        "        \"bread is sliced\",\n",
        "        \"toaster is on counter\",\n",
        "        \"plate is on counter\",\n",
        "        \"drawer is open\"\n",
        "      ]\n",
        "    },\n",
        "    {\n",
        "      \"action\": \"place knife in drawer\",\n",
        "      \"precondition\": [\"knife must be held by robotic arm\", \"drawer must be open\"],\n",
        "      \"effect\": [\"knife will be in drawer\", \"knife will no longer be held by robotic arm\", \"robotic arm will be holding nothing\"],\n",
        "      \"state\": [\n",
        "        \"bread is sliced\",\n",
        "        \"toaster is on counter\",\n",
        "        \"plate is on counter\",\n",
        "        \"drawer is open\",\n",
        "        \"knife is in drawer\",\n",
        "        \"robotic arm is holding nothing\"\n",
        "      ]\n",
        "    },\n",
        "    {\n",
        "      \"action\": \"pick up bread\",\n",
        "      \"precondition\": [\"bread must be sliced\", \"robotic arm must be holding nothing\"],\n",
        "      \"effect\": [\"bread will be held by robotic arm\", \"robotic arm will no longer be holding nothing\"],\n",
        "      \"state\": [\n",
        "        \"bread is held by robotic arm\",\n",
        "        \"toaster is on counter\",\n",
        "        \"plate is on counter\",\n",
        "        \"drawer is open\",\n",
        "        \"knife is in drawer\"\n",
        "      ]\n",
        "    },\n",
        "    {\n",
        "      \"action\": \"place bread in toaster\",\n",
        "      \"precondition\": [\"bread must be held by robotic arm\"],\n",
        "      \"effect\": [\"bread will be in toaster\", \"bread will no longer be held by robotic arm\", \"robotic arm will be holding nothing\"],\n",
        "      \"state\": [\n",
        "        \"bread is in toaster\",\n",
        "        \"toaster is on counter\",\n",
        "        \"plate is on counter\",\n",
        "        \"drawer is open\",\n",
        "        \"knife is in drawer\",\n",
        "        \"robotic arm is holding nothing\"\n",
        "      ]\n",
        "    },\n",
        "    {\n",
        "      \"action\": \"turn on toaster\",\n",
        "      \"precondition\": [\"bread must be in toaster\"],\n",
        "      \"effect\": [\"bread will be heated\"],\n",
        "      \"state\": [\n",
        "        \"bread is heated\",\n",
        "        \"toaster is on counter\",\n",
        "        \"plate is on counter\",\n",
        "        \"drawer is open\",\n",
        "        \"knife is in drawer\",\n",
        "        \"robotic arm is holding nothing\"\n",
        "      ]\n",
        "    },\n",
        "    {\n",
        "      \"action\": \"pick up bread\",\n",
        "      \"precondition\": [\"bread must be heated\", \"robotic arm must be holding nothing\"],\n",
        "      \"effect\": [\"bread will be held by robotic arm\", \"robotic arm will no longer be holding nothing\"],\n",
        "      \"state\": [\n",
        "        \"bread is held by robotic arm\",\n",
        "        \"toaster is on counter\",\n",
        "        \"plate is on counter\",\n",
        "        \"drawer is open\",\n",
        "        \"knife is in drawer\"\n",
        "      ]\n",
        "    },\n",
        "    {\n",
        "      \"action\": \"place bread on plate\",\n",
        "      \"precondition\": [\"bread must be held by robotic arm\", \"plate must be on counter\"],\n",
        "      \"effect\": [\"bread will be on plate\", \"bread will no longer be held by robotic arm\", \"robotic arm will be holding nothing\"],\n",
        "      \"state\": [\n",
        "        \"bread is on plate\",\n",
        "        \"toaster is on counter\",\n",
        "        \"drawer is open\",\n",
        "        \"knife is in drawer\",\n",
        "        \"robotic arm is holding nothing\"\n",
        "      ]\n",
        "    }\n",
        "  ]\n",
        "}\n",
        "\"\"\""
      ],
      "metadata": {
        "id": "Mykg1SlwJT96"
      },
      "execution_count": null,
      "outputs": []
    }
  ],
  "metadata": {
    "colab": {
      "provenance": [],
      "collapsed_sections": [
        "7AuVpw9TZJrS",
        "525RUhWieouh",
        "hXWo2rXz_cFR",
        "czC3LvYO08-t",
        "8cHe7GKQAvw4",
        "KJIktYskAfL-",
        "6oHRijdMBJpw",
        "FxGpZEWMGpPh",
        "jY-1H7TdGtuz",
        "GCHLkO3GG3Lq",
        "sTOF1NRFG9rO",
        "6ohw0BcgHHyO",
        "RpYPA6vkHURr",
        "Kc6dm1oPH06I",
        "-WXxo51UH4g7",
        "y_syUAZMssvT"
      ],
      "include_colab_link": true
    },
    "kernelspec": {
      "display_name": "Python 3",
      "name": "python3"
    },
    "language_info": {
      "name": "python"
    }
  },
  "nbformat": 4,
  "nbformat_minor": 0
}